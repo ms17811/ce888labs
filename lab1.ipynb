{
 "cells": [
  {
   "cell_type": "markdown",
   "metadata": {},
   "source": [
    "# CE888: Data Science and Decision Making Lab 1\n"
   ]
  },
  {
   "cell_type": "markdown",
   "metadata": {},
   "source": [
    "Over today's practice you'll learn:\n",
    "* to use JuPyter notebooks to quickly prototype code and show results\n",
    "* the numerical Python library\n",
    "\n",
    "This lab is divided in two parts. In each of them, you will have to fill in the gaps following the instructions given.\n",
    "The prompts for you to write code will look like this:"
   ]
  },
  {
   "cell_type": "code",
   "execution_count": null,
   "metadata": {},
   "outputs": [],
   "source": [
    "#<------------INSERT CODE HERE------------>"
   ]
  },
  {
   "cell_type": "markdown",
   "metadata": {},
   "source": [
    "This might involve more than one line of code from you!\n",
    "\n",
    "Do **not** delete code from the notebook.\n",
    "\n",
    "Let's start!"
   ]
  },
  {
   "cell_type": "markdown",
   "metadata": {},
   "source": [
    "## Part 1\n",
    "\n",
    "In the first part of the lab we're going to check your Python skills and, in particular, we will ask you to create some functions to operate on vectors and matrices.\n",
    "\n"
   ]
  },
  {
   "cell_type": "markdown",
   "metadata": {},
   "source": [
    "### Operations with vectors"
   ]
  },
  {
   "cell_type": "code",
   "execution_count": 1,
   "metadata": {},
   "outputs": [
    {
     "name": "stdout",
     "output_type": "stream",
     "text": [
      "[1, 2, 4, 78, 93]\n",
      "The vector has 5 elements\n"
     ]
    }
   ],
   "source": [
    "# Let's create a vector. We can do this as a Python built-in type: the list\n",
    "vector1 = [1, 2, 4, 78, 93] # we declare the vector as a list of elements\n",
    "\n",
    "print(vector1)\n",
    "print(\"The vector has %d elements\" % len(vector1))"
   ]
  },
  {
   "cell_type": "code",
   "execution_count": 60,
   "metadata": {},
   "outputs": [],
   "source": [
    "# Let's add a number to every element of the vector.\n",
    "## Exercise: create a function that, given a vector and a number,\n",
    "## returns the addition of that number to each element of the vector\n",
    "\n",
    "# import numpy as np\n",
    "\n",
    "def vector_plus_num(vector, number):\n",
    "    \n",
    "    #<------------INSERT CODE HERE------------>\n",
    "        \n",
    "    vector = [x+number for x in vector]\n",
    "     \n",
    "    return vector"
   ]
  },
  {
   "cell_type": "code",
   "execution_count": 61,
   "metadata": {},
   "outputs": [
    {
     "name": "stdout",
     "output_type": "stream",
     "text": [
      "[6, 7, 9, 83, 98]\n",
      "[-32, -31, -29, 45, 60]\n"
     ]
    }
   ],
   "source": [
    "# Let's test your function:\n",
    "print(vector_plus_num(vector1, 5))\n",
    "print(vector_plus_num(vector1, -33))"
   ]
  },
  {
   "cell_type": "markdown",
   "metadata": {},
   "source": [
    "What if we now wanted to mutiply a number and a vector? **Do not do it**, just think about what you'd need!"
   ]
  },
  {
   "cell_type": "markdown",
   "metadata": {},
   "source": [
    "And what if we want to calculate the mean value of your vector?"
   ]
  },
  {
   "cell_type": "code",
   "execution_count": 17,
   "metadata": {},
   "outputs": [],
   "source": [
    "## Exercise: create a function that, given a vector,\n",
    "## returns the mean value of its elements.\n",
    "def vector_mean(vector):\n",
    "    \n",
    "    #<------------INSERT CODE HERE------------>\n",
    "          \n",
    "    return sum(vector) / len(vector) \n",
    "\n",
    "vector = [4, 5, 7, 81, 96]\n",
    "mean = vector_mean(vector)"
   ]
  },
  {
   "cell_type": "code",
   "execution_count": 19,
   "metadata": {},
   "outputs": [
    {
     "name": "stdout",
     "output_type": "stream",
     "text": [
      "Mean of the vector = 38.6\n"
     ]
    }
   ],
   "source": [
    "# Now test your function:\n",
    "\n",
    "#<------------INSERT CODE HERE------------>\n",
    "\n",
    "print(\"Mean of the vector =\", round(mean, 2))"
   ]
  },
  {
   "cell_type": "markdown",
   "metadata": {},
   "source": [
    "We will now work on operations between pairs of vectors."
   ]
  },
  {
   "cell_type": "code",
   "execution_count": 20,
   "metadata": {},
   "outputs": [],
   "source": [
    "# Now let's create a new vector, called vector2, of the same length as vector1.\n",
    "# We will then look at operations with multiple vectors, \n",
    "# such as adding and subtracting them, and vector multiplications.\n",
    "vector2 = [5, 8, 11, 18, 88] #<------------INSERT CODE HERE------------>\n",
    "\n",
    "assert len(vector1) == len(vector2), \"The vectors are not of the same length\""
   ]
  },
  {
   "cell_type": "code",
   "execution_count": 21,
   "metadata": {},
   "outputs": [],
   "source": [
    "# Create a function that returns new vector of the same length as vector1 and vector2, \n",
    "# for which each element is the sum of the corresponding elements from vector1 and vector2.\n",
    "\n",
    "# Feel free to create a function to do this!\n",
    "\n",
    "def add_two_vectors(vector1, vector2):\n",
    "    #<------------INSERT CODE HERE------------>\n",
    "    \n",
    "    sumVec = [x+y for x,y in zip(vector1, vector2)]\n",
    "    \n",
    "    \n",
    "    return sumVec"
   ]
  },
  {
   "cell_type": "code",
   "execution_count": 22,
   "metadata": {},
   "outputs": [
    {
     "name": "stdout",
     "output_type": "stream",
     "text": [
      "[6, 10, 15, 96, 181]\n",
      "[2, 4, 7]\n"
     ]
    }
   ],
   "source": [
    "# Let's test your function:\n",
    "print(add_two_vectors(vector1, vector2))\n",
    "print(add_two_vectors(vector1, [1, 2, 3]))\n",
    "# If the second print resulted in an error, don't worry about it for now!"
   ]
  },
  {
   "cell_type": "markdown",
   "metadata": {},
   "source": [
    "How about the multiplication of vectors?\n",
    "There are two types of vector multiplications:\n",
    "* The dot product (or scalar product) takes two vectors and returns a scalar.\n",
    "* The cross product (or vector product) takes two vectors and returns another vector."
   ]
  },
  {
   "cell_type": "markdown",
   "metadata": {},
   "source": [
    "Now let's create a function that returns the scalar product of two vectors.\n",
    "\n",
    "This can be done by multiplying pairs of elements and adding the result:\n",
    "\n",
    "A = [A1, A2, A3, ..., An]\n",
    "\n",
    "B = [B1, B2, B3, ..., Bn]\n",
    "\n",
    "A · B = A1·B1 + A2·B2 + ... An·Bn"
   ]
  },
  {
   "cell_type": "code",
   "execution_count": 50,
   "metadata": {},
   "outputs": [],
   "source": [
    "def scalar_product(vec1, vec2):\n",
    "    #<------------INSERT CODE HERE------------>\n",
    "    \n",
    "    scalarProduct = sum(x*y for x,y in zip(vec1,vec2))\n",
    "    \n",
    "    # scalarProduct = np.dot(vector1,vector2)\n",
    "    \n",
    "    return scalarProduct"
   ]
  },
  {
   "cell_type": "code",
   "execution_count": 53,
   "metadata": {},
   "outputs": [
    {
     "name": "stdout",
     "output_type": "stream",
     "text": [
      "15021\n"
     ]
    }
   ],
   "source": [
    "# Test your function\n",
    "\n",
    "#<------------INSERT CODE HERE------------>\n",
    "\n",
    "print(scalar_product(vector1, vector2))"
   ]
  },
  {
   "cell_type": "markdown",
   "metadata": {},
   "source": [
    "### Operations with matrices\n",
    "\n",
    "Again, there are multiple things we can do with matrices. For example, adding/subtracting/multiplying a number to each element of a matrix and matrix multiplication.\n",
    "\n",
    "We're going to attempt the last one only."
   ]
  },
  {
   "cell_type": "code",
   "execution_count": 29,
   "metadata": {},
   "outputs": [],
   "source": [
    "# Create a function that receives two matrices as input and returns the matrix multiplication of the two\n",
    "# If you don't know how to multiply two matrices, check:\n",
    "# https://en.wikipedia.org/wiki/Matrix_multiplication#Definition\n",
    "\n",
    "def matrix_multiplication(matrix1, matrix2):\n",
    "    \n",
    "    #<------------INSERT CODE HERE------------>\n",
    "    \n",
    "    zip_matrix2 = zip(*matrix2)\n",
    "    multipl_result = [[sum(ele_matrix1*ele_matrix2 for ele_matrix1, ele_matrix2 in zip(row_matrix1, col_matrix2)) \n",
    "             for col_matrix2 in zip_matrix2] for row_matrix1 in matrix1]\n",
    "\n",
    "    return multipl_result"
   ]
  },
  {
   "cell_type": "code",
   "execution_count": 30,
   "metadata": {},
   "outputs": [],
   "source": [
    "# And let's test your function:\n",
    "# NOTE: some of the tests below will give errors. Don't worry about them!\n",
    "matrixA = [[1, 2, 3], [1, 2, 3]]\n",
    "matrixB = [[5, 6, 7], [5, 6, 7], [5, 6, 7]]\n",
    "matrixC = [[8, 9], [8, 9], [8, 9], [8, 9]]\n",
    "matrixD = [[10, 11], [10, 11], [10, 11]]"
   ]
  },
  {
   "cell_type": "code",
   "execution_count": 31,
   "metadata": {},
   "outputs": [
    {
     "name": "stdout",
     "output_type": "stream",
     "text": [
      "[[30, 36, 42], []]\n"
     ]
    }
   ],
   "source": [
    "print(matrix_multiplication(matrixA, matrixB))"
   ]
  },
  {
   "cell_type": "code",
   "execution_count": 32,
   "metadata": {},
   "outputs": [
    {
     "name": "stdout",
     "output_type": "stream",
     "text": [
      "[[48, 54], []]\n"
     ]
    }
   ],
   "source": [
    "print(matrix_multiplication(matrixA, matrixC))"
   ]
  },
  {
   "cell_type": "code",
   "execution_count": 33,
   "metadata": {},
   "outputs": [
    {
     "name": "stdout",
     "output_type": "stream",
     "text": [
      "[[21, 42, 63], [], []]\n"
     ]
    }
   ],
   "source": [
    "print(matrix_multiplication(matrixD, matrixA))"
   ]
  },
  {
   "cell_type": "markdown",
   "metadata": {},
   "source": [
    "Hopefully this has convinced you that operating with vectors and matrices like this is not the best way.\n",
    "Now we will turn to the second part of this lab, in which you will be introduced to the numerical Python library, *numpy*."
   ]
  },
  {
   "cell_type": "markdown",
   "metadata": {},
   "source": [
    "## Part 2: Numpy\n"
   ]
  },
  {
   "cell_type": "markdown",
   "metadata": {},
   "source": [
    "Numpy has a built-in type called the *ndarray*. "
   ]
  },
  {
   "cell_type": "code",
   "execution_count": 62,
   "metadata": {},
   "outputs": [],
   "source": [
    "import numpy as np # Importing convention for Numpy"
   ]
  },
  {
   "cell_type": "markdown",
   "metadata": {},
   "source": [
    "#### Creating and manipulating arrays"
   ]
  },
  {
   "cell_type": "code",
   "execution_count": 63,
   "metadata": {},
   "outputs": [
    {
     "name": "stdout",
     "output_type": "stream",
     "text": [
      "[1. 2. 3.]\n",
      "float32\n",
      "[1.+2.j 3.-4.j]\n",
      "complex64\n",
      "[False  True  True]\n",
      "bool\n",
      "[[1 2 3]\n",
      " [1 2 3]]\n",
      "int64\n",
      "(2, 3)\n",
      "[ 2  3  4 79 95]\n",
      "int64\n",
      "(5,)\n"
     ]
    }
   ],
   "source": [
    "# Create arrays with a specified data type\n",
    "\n",
    "arr = np.array([1, 2, 3], dtype=np.float32)\n",
    "print(arr)\n",
    "print(arr.dtype)\n",
    "\n",
    "arr = np.array([1+2j, 3-4j], dtype=np.complex64)  # an array of complex numbers\n",
    "print(arr)\n",
    "print(arr.dtype)\n",
    "\n",
    "arr = np.array([0, 1, 1], dtype=np.bool)  # an array of True/False values\n",
    "print(arr)\n",
    "print(arr.dtype)\n",
    "\n",
    "# We can also create arrays from the vectors and matrices we had before.\n",
    "arr = np.array(matrixA)\n",
    "print(arr)\n",
    "print(arr.dtype)\n",
    "print(arr.shape)\n",
    "\n",
    "arr = np.array(vector2)\n",
    "print(arr)\n",
    "print(arr.dtype)\n",
    "print(arr.shape)\n"
   ]
  },
  {
   "cell_type": "code",
   "execution_count": 64,
   "metadata": {},
   "outputs": [
    {
     "name": "stdout",
     "output_type": "stream",
     "text": [
      "[0 1 2 3 4 5 6 7 8 9]\n",
      "shape: (10,)\n",
      "dtype: int64\n",
      "dim: 1\n",
      "itemsize: 8\n"
     ]
    }
   ],
   "source": [
    "arr_range2 = np.arange(10)\n",
    "print(arr_range2)\n",
    "\n",
    "# Retrieving information on the array\n",
    "print(\"shape:\", arr_range2.shape)\n",
    "print(\"dtype:\", arr_range2.dtype)\n",
    "print(\"dim:\", arr_range2.ndim)\n",
    "print(\"itemsize:\", arr_range2.itemsize)"
   ]
  },
  {
   "cell_type": "code",
   "execution_count": 65,
   "metadata": {},
   "outputs": [
    {
     "name": "stdout",
     "output_type": "stream",
     "text": [
      "[ 0  5 10 15 20 25 30 35 40 45 50 55 60 65 70 75 80 85 90 95]\n",
      "[ 0.          0.52631579  1.05263158  1.57894737  2.10526316  2.63157895\n",
      "  3.15789474  3.68421053  4.21052632  4.73684211  5.26315789  5.78947368\n",
      "  6.31578947  6.84210526  7.36842105  7.89473684  8.42105263  8.94736842\n",
      "  9.47368421 10.        ]\n"
     ]
    }
   ],
   "source": [
    "# We can use the np.arange function to create a range of values:\n",
    "arr = np.arange(0, 100, 5) #np.arange(start, stop, pace)\n",
    "print(arr)\n",
    "# Note: is the last value (100) included?\n",
    "\n",
    "# Similarly, we can use np.linspace:\n",
    "# np.linspace(start, stop, num_of_elements, endpoint=True) \n",
    "arr = np.linspace(0, 10, 20)\n",
    "print(arr)\n",
    "# Note: is the last value (10) included now?"
   ]
  },
  {
   "cell_type": "code",
   "execution_count": 66,
   "metadata": {},
   "outputs": [
    {
     "name": "stdout",
     "output_type": "stream",
     "text": [
      "[[1.5 2.  3. ]\n",
      " [4.  5.  6. ]]\n",
      "(2, 3)\n"
     ]
    }
   ],
   "source": [
    "arr_2d = np.array([(1.5, 2, 3), (4, 5, 6)]) # creating an array from a list of tuples\n",
    "print(arr_2d)\n",
    "print(arr_2d.shape)"
   ]
  },
  {
   "cell_type": "code",
   "execution_count": 67,
   "metadata": {},
   "outputs": [
    {
     "name": "stdout",
     "output_type": "stream",
     "text": [
      "arr_2d[0,0] : 1.5\n",
      "arr_2d[0,:] :  [1.5 2.  3. ]\n",
      "arr_2d[:,0] : [1.5 4. ]\n",
      "[3. 4. 5. 6.]\n"
     ]
    }
   ],
   "source": [
    "# Slicing (i.e., accessing specific elements of the array)\n",
    "\n",
    "print(\"arr_2d[0,0] :\", arr_2d[0, 0])\n",
    "print(\"arr_2d[0,:] : \", arr_2d[0, :])\n",
    "print(\"arr_2d[:,0] :\", arr_2d[:, 0])\n",
    "\n",
    "print(arr_2d[arr_2d > 2])"
   ]
  },
  {
   "cell_type": "code",
   "execution_count": 73,
   "metadata": {},
   "outputs": [
    {
     "name": "stdout",
     "output_type": "stream",
     "text": [
      "[[0. 0. 0. 0. 0. 0. 0. 0. 0. 0.]\n",
      " [0. 0. 0. 0. 0. 0. 0. 0. 0. 0.]\n",
      " [0. 0. 0. 0. 0. 0. 0. 0. 0. 0.]\n",
      " [0. 0. 0. 0. 0. 0. 0. 0. 0. 0.]\n",
      " [0. 0. 0. 0. 0. 0. 0. 0. 0. 0.]\n",
      " [0. 0. 0. 0. 0. 0. 0. 0. 0. 0.]\n",
      " [0. 0. 0. 0. 0. 0. 0. 0. 0. 0.]\n",
      " [0. 0. 0. 0. 0. 0. 0. 0. 0. 0.]\n",
      " [0. 0. 0. 0. 0. 0. 0. 0. 0. 0.]\n",
      " [0. 0. 0. 0. 0. 0. 0. 0. 0. 0.]]\n",
      "(10, 10)\n",
      "[[1. 1. 1. 1.]\n",
      " [1. 1. 1. 1.]\n",
      " [1. 1. 1. 1.]\n",
      " [1. 1. 1. 1.]]\n",
      "(4, 4)\n",
      "[[1. 1. 1. 1. 1. 1. 1. 1.]\n",
      " [1. 1. 1. 1. 1. 1. 1. 1.]]\n",
      "(2, 8)\n"
     ]
    }
   ],
   "source": [
    "# Other types of arrays\n",
    "\n",
    "zeros = np.zeros((10, 10))\n",
    "print(zeros)\n",
    "# print the shape of zeros\n",
    "#<------------INSERT CODE HERE------------>\n",
    "print(zeros.shape)\n",
    "\n",
    "ones = np.ones((4, 4))\n",
    "print(ones)\n",
    "\n",
    "# print the shape of ones\n",
    "#<------------INSERT CODE HERE------------>\n",
    "print(ones.shape)\n",
    "\n",
    "print(ones.reshape(2, 8))\n",
    "# print the shape of ones\n",
    "#<------------INSERT CODE HERE------------>\n",
    "ones_reshape = ones.reshape(2, 8)\n",
    "print(ones_reshape.shape)"
   ]
  },
  {
   "cell_type": "code",
   "execution_count": 76,
   "metadata": {},
   "outputs": [
    {
     "name": "stdout",
     "output_type": "stream",
     "text": [
      "(1, 1000)\n",
      "[[-1.07664635e+00  4.23331645e-01 -1.46419626e+00 -1.00945011e-01\n",
      "   1.09810666e+00 -1.34829635e+00  9.40802672e-01 -1.05557863e+00\n",
      "  -1.19638256e+00 -1.28731966e+00 -1.22174045e+00 -1.23830264e+00\n",
      "  -1.82623225e+00 -1.12425749e+00  1.02678982e+00  3.78736747e-01\n",
      "  -2.10398535e+00  1.50220938e-01  7.13571026e-03  3.99299686e-01\n",
      "  -5.54801004e-01 -9.10322964e-01  1.28794087e-01  2.21295065e+00\n",
      "  -1.53290717e+00 -1.35694166e+00  2.36935540e-01 -5.48093058e-01\n",
      "   5.67710505e-01 -2.14143688e+00 -5.35016933e-01  6.90573391e-01\n",
      "  -2.34310582e+00 -3.01937723e-02  7.50450983e-01 -2.28311582e+00\n",
      "  -2.93980874e-01  8.70358176e-01  2.44608895e+00  1.58398160e+00\n",
      "  -3.12755569e-01  8.59966914e-02 -4.84856275e-02 -1.83820835e+00\n",
      "  -1.47987867e-02 -9.54303317e-01 -5.37611439e-01 -1.98705832e+00\n",
      "  -1.00722560e+00 -2.02986484e+00  1.06834993e+00 -5.79613268e-01\n",
      "  -5.50474678e-01  2.14221569e+00  6.12721089e-01 -6.22339115e-01\n",
      "  -2.10719739e-01  1.30254045e+00 -7.33965109e-01 -7.45737771e-01\n",
      "   3.74428788e-01  5.46205466e-01  7.58665351e-02 -1.63795365e+00\n",
      "   4.22593159e-01  3.22744768e-01 -1.13923046e+00 -3.27933264e-01\n",
      "  -8.06145207e-02  9.85513495e-02  9.43529931e-01  1.56759455e-01\n",
      "  -4.67855400e-01 -1.07200906e+00  2.00590841e-01 -9.97996038e-01\n",
      "   9.65864538e-01 -3.96164212e-02 -6.83451588e-02  8.22893349e-01\n",
      "   1.06347419e-01  2.05606135e+00 -1.11952750e+00 -7.24609106e-01\n",
      "   3.89233384e-01  5.62004807e-01  1.14121004e+00 -1.40505704e+00\n",
      "   1.06465134e-01  5.91913854e-01  1.97821257e-01  8.43922418e-01\n",
      "  -2.21288621e+00 -8.69787296e-01  1.30327523e-01  1.74517297e+00\n",
      "   3.32942657e-01  5.44783932e-01 -1.31554933e-01 -8.67876727e-01\n",
      "   1.28446528e+00  8.95421810e-01 -2.75807297e-01 -4.73100568e-01\n",
      "   7.50431709e-01 -2.00858826e-01  8.38147088e-01 -1.53809098e+00\n",
      "   7.44848522e-01 -1.70651490e+00 -7.40032169e-02 -1.05333979e+00\n",
      "   1.07168590e+00 -1.87604277e+00  2.54615791e+00 -1.96422981e-02\n",
      "  -2.58729342e-01 -2.87177724e-01 -3.77487288e-01  5.03074093e-01\n",
      "  -4.81328632e-01  8.30068330e-01 -2.11346431e-01 -3.78855136e-01\n",
      "  -1.49966477e+00  2.58899185e+00 -9.05947964e-01  4.38884253e-01\n",
      "  -1.03671355e-01  1.85812635e+00  6.43663876e-02  6.53701755e-01\n",
      "   1.49846405e+00  5.78336962e-01  6.33563597e-01 -2.29805307e-01\n",
      "   5.67195042e-01  2.62388341e-01 -8.63849074e-01  6.87304884e-02\n",
      "  -2.55521563e-01  9.52568491e-01 -7.23128089e-01  1.10658929e+00\n",
      "  -7.69520641e-01 -3.50354930e-01  2.73446039e+00  1.19953465e+00\n",
      "   1.47109220e+00 -9.28789171e-01  3.71628784e-01  1.30701559e+00\n",
      "   6.83115208e-01  3.14168575e-01  1.70293447e-02 -6.32905425e-01\n",
      "  -7.19985425e-01  1.66413755e+00  5.66617463e-01  7.12342700e-01\n",
      "   1.21422741e+00  3.43657881e-02 -1.59197546e+00  5.96776558e-01\n",
      "   2.32806534e+00 -2.25488672e+00 -1.79174601e-01  8.49595724e-01\n",
      "  -1.40995492e+00 -8.06799693e-01 -1.45602706e-01  1.85597242e-01\n",
      "  -4.86104060e-01 -1.47096735e+00  5.28145627e-01 -9.80001047e-01\n",
      "  -7.19321270e-01  1.79625727e+00 -1.23253316e+00 -1.43146459e-01\n",
      "   1.10123482e+00 -4.91340069e-01 -7.12772987e-01 -4.21548104e-01\n",
      "  -1.13329980e+00 -7.56772271e-02  1.75039861e-01  7.23640627e-01\n",
      "   5.30010895e-02  1.87553035e+00 -5.14344462e-01 -1.52075949e+00\n",
      "   1.41120679e-01  2.42031955e-02 -1.03220332e+00 -8.58409418e-02\n",
      "   1.47672558e+00  3.20476300e-01  1.12817367e+00  9.05811671e-01\n",
      "  -2.09587501e-01 -1.83704217e+00  1.22733864e+00  1.75998241e+00\n",
      "   6.23939907e-02  7.78684794e-01 -1.11282445e+00 -7.18005166e-01\n",
      "  -2.86273424e-01 -1.67816575e+00 -3.30400176e-01  1.03956141e-01\n",
      "  -6.80074348e-01  5.33683227e-01 -8.22616083e-01 -1.51885105e+00\n",
      "   2.90093887e-01 -6.81274014e-01 -3.67259957e-01  1.59136232e+00\n",
      "   2.99505055e-01  9.99667663e-01  7.23705570e-01  1.00015226e+00\n",
      "   3.23803013e-01 -9.03923465e-01  2.35129312e-01  9.77848036e-01\n",
      "  -1.74055884e-01  8.22004463e-02  9.68016812e-01  2.80580144e-01\n",
      "   1.16795037e+00 -6.38652474e-01  9.68403277e-01  1.30394510e+00\n",
      "   9.93100517e-03 -1.92841725e+00 -1.29113440e+00  1.45797788e-01\n",
      "  -1.45950790e+00  1.80271507e-01 -6.73790538e-01 -2.37244232e-01\n",
      "   1.32881455e+00 -1.55159225e-01 -5.56615358e-01 -6.08474010e-01\n",
      "  -8.55113702e-01  1.13928273e+00 -3.54700052e-01  4.39361387e-01\n",
      "  -1.24788007e-01  6.88829015e-01  5.61744260e-01  3.46744575e-02\n",
      "  -1.14440771e+00 -1.65120846e+00 -2.01505625e+00  1.45624149e+00\n",
      "  -1.19993186e+00 -9.32607166e-01  1.76229173e+00  1.36672721e+00\n",
      "  -6.62968626e-01  1.44513825e+00  1.75071769e+00  2.66103289e-01\n",
      "  -9.98913396e-01  8.35408231e-01 -1.65049297e+00  9.27992837e-01\n",
      "  -5.37475103e-01 -1.87657070e+00  7.45717582e-01  6.74997491e-01\n",
      "  -9.27492470e-01 -1.39574651e+00 -1.07056012e-01  3.02351671e-01\n",
      "  -2.07183323e-02  1.39278371e+00 -2.34395604e-01 -2.27709311e-01\n",
      "   9.76041562e-01 -1.17456760e+00 -7.26974619e-02  1.69430545e-01\n",
      "   1.28476124e+00 -1.27874114e+00 -4.95253744e-01  5.06963217e-01\n",
      "   3.85428009e-01 -2.54457522e-01  7.60238736e-01  1.17350066e+00\n",
      "  -5.49369462e-01 -5.85790078e-01 -4.85120378e-01  3.04146916e-01\n",
      "   5.23060927e-01  1.22810664e+00  9.10231140e-01 -8.36651915e-01\n",
      "  -1.11450810e+00  1.62351052e-01 -1.36800074e+00 -1.42655356e+00\n",
      "   1.06876983e+00 -6.17763309e-01  6.17304674e-01 -2.13451641e+00\n",
      "   6.74987705e-01 -4.98476599e-01 -6.95075548e-01  2.95150285e-01\n",
      "   5.68244353e-01 -4.14182795e-01 -3.79380149e-01 -2.07253203e+00\n",
      "  -1.50707364e+00 -4.66391621e-02 -8.58697798e-02  1.24608634e+00\n",
      "   4.58625689e-01  2.40948168e-01 -1.15197220e+00 -2.24458528e-01\n",
      "  -3.44209730e-01 -3.96654740e-01  4.69469409e-01  4.35425688e-02\n",
      "  -5.48521028e-01  2.77913442e-01 -5.45284090e-01 -1.21437085e+00\n",
      "  -1.42804794e+00  1.72310810e+00 -5.24557979e-01 -1.14851845e+00\n",
      "   1.67242992e+00  4.00754756e-01 -3.81984157e-01  2.82666295e-01\n",
      "   7.08506171e-02  2.31459279e-01 -2.13260307e+00 -1.33951690e+00\n",
      "  -7.95221318e-01  1.16742410e-01  8.78401789e-01 -5.75292123e-01\n",
      "  -7.40080666e-01 -8.04218611e-01  3.85648680e-01 -3.08233332e+00\n",
      "   1.43340763e-01 -3.84416919e-02  1.24832809e+00 -3.95709637e-01\n",
      "   2.01527813e+00 -2.54802349e-01  2.86919997e-02  8.47994132e-01\n",
      "   5.47692441e-01  6.12648589e-01 -1.15139469e+00  2.01679813e-01\n",
      "   2.21306944e-01 -3.05638002e-01 -1.78031569e+00  1.56996407e+00\n",
      "   3.67604253e-01 -8.55246120e-01  1.09845084e-01  1.60407686e+00\n",
      "   1.26487575e-01  9.75688759e-01  2.08432163e+00 -3.62625569e-03\n",
      "   5.98612040e-01 -4.27429042e-01 -2.66667598e-01 -2.80369030e-01\n",
      "  -5.96190665e-01 -9.25587449e-01 -4.51366069e-01  3.38384200e-01\n",
      "  -1.02734286e+00  1.47385893e+00  1.53408003e+00  8.45527597e-01\n",
      "   5.91306511e-01 -1.09166734e+00  1.09607683e+00  1.22711418e+00\n",
      "  -1.30047426e+00  1.85272514e+00  1.13454847e+00  3.83398923e-01\n",
      "  -9.94390654e-01  1.96065066e-01 -1.60609456e+00  6.38778150e-01\n",
      "   1.37130752e+00 -2.09886354e-01 -2.17078376e-01  1.63331320e+00\n",
      "  -6.73245809e-01  4.63901663e-01  1.77540730e-01 -1.83628905e-01\n",
      "   1.13271717e+00  2.78166738e-01  1.87942259e+00  6.75140882e-01\n",
      "   1.10533844e-01  5.66296166e-01  4.56587897e-01  1.18462443e+00\n",
      "   9.46070273e-01 -2.75474234e-02  6.76318191e-01 -3.84183831e-01\n",
      "   1.34203777e-01 -1.08578957e+00  8.20279462e-01  7.42068291e-01\n",
      "   1.01484635e+00  1.40489908e-01  5.94621608e-01  1.32541036e+00\n",
      "  -1.46804778e+00  9.18704948e-01  5.91354969e-01 -8.02929708e-01\n",
      "  -1.69562980e-02  6.95456007e-01  1.25009986e+00 -1.13012014e+00\n",
      "  -1.00041710e+00  2.05143667e+00  5.86285207e-01 -1.31493143e+00\n",
      "  -1.14219386e+00 -1.36751464e-01 -1.64167051e+00 -1.65797700e+00\n",
      "   5.35027019e-01  2.95482355e-01 -4.40620014e-01 -3.10000084e+00\n",
      "   4.07360193e-01 -1.06478366e-01  3.43218677e-01  2.86685400e-04\n",
      "  -7.30441076e-01  8.51877437e-01  4.16261058e-01  1.44200554e+00\n",
      "  -6.80444606e-01  9.46029341e-01 -5.56541405e-02  1.02570763e-01\n",
      "  -1.03238732e+00 -1.37290777e+00  1.73812659e+00 -4.48542772e-01\n",
      "  -2.04416485e+00 -3.67499666e-01  1.19346864e-01 -1.04387369e+00\n",
      "   2.51841409e-01  3.25426285e-02 -2.69013359e+00 -1.35023469e+00\n",
      "   6.61987641e-01 -2.78107927e-03  1.32841026e-01  4.45580430e-01\n",
      "   8.50390295e-01 -1.13753982e+00  2.87018864e-01 -5.52848099e-01\n",
      "  -7.10155719e-01 -5.88130584e-01  8.50625220e-01  1.08422787e+00\n",
      "  -9.42309983e-02 -5.29603037e-01  9.49583257e-01  5.98090191e-01\n",
      "   5.75187959e-01  9.95370176e-01 -1.15302204e+00  1.43055414e+00\n",
      "  -5.24308903e-01  2.82774416e-01 -3.96295183e-01  1.26671101e+00\n",
      "   6.94985565e-01 -8.53443310e-02  8.66901291e-01 -6.77436974e-01\n",
      "  -6.72772886e-01 -8.40850424e-01 -1.15952583e+00 -1.14004520e+00\n",
      "   9.32809455e-02 -2.13435176e-01 -1.01590518e-01  4.07438893e-01\n",
      "   1.51401675e+00  1.15018469e+00  5.93083954e-01  4.14006184e-01\n",
      "   1.78760314e+00 -6.37468880e-01 -1.11780363e+00 -6.51999472e-01\n",
      "   4.89648549e-01 -4.90740133e-01  4.45567288e-01  1.98927002e+00\n",
      "  -5.50299885e-01 -1.80477331e+00 -1.82605150e+00 -9.93276391e-01\n",
      "  -2.75067684e+00  1.92237922e+00 -2.14496099e+00  1.27083212e+00\n",
      "   2.06860071e-01  1.51723643e-01  1.57120255e+00 -4.30767867e-01\n",
      "  -8.16035252e-01  1.23516708e+00 -1.22956889e+00  6.60862429e-01\n",
      "  -8.24098672e-01 -3.26612019e-01 -1.21759059e+00  2.50316241e+00\n",
      "  -3.16147901e-01  6.21404222e-01  3.48239888e-01 -1.05069799e+00\n",
      "  -4.86803809e-01  2.65795975e-01 -1.01954312e-02  3.39473860e-01\n",
      "   6.66337608e-02  2.84299902e-02 -1.04605583e+00  1.01003867e+00\n",
      "  -4.62992606e-01  2.57365834e+00  5.03992431e-01 -3.72577695e-01\n",
      "  -3.34634702e-01  3.05981497e-01 -7.83946306e-02  1.30754817e+00\n",
      "   1.90443059e+00  3.67623621e-01 -5.52723661e-01  4.54783864e-01\n",
      "   1.77781554e+00 -2.70040763e-01  9.35161330e-01 -3.04157529e-02\n",
      "   6.63765007e-01  5.12487821e-01 -3.03498131e-01  5.79336671e-01\n",
      "   4.41267465e-01  9.14421748e-01 -6.08219108e-02 -5.34806259e-01\n",
      "  -7.26416190e-01  5.77110570e-01  4.79173170e-01  8.65813981e-01\n",
      "   3.26434615e-01 -3.16990798e-01 -1.16277801e+00  1.45969199e-01\n",
      "   1.34685774e+00 -3.33098861e-01 -1.33323071e+00 -2.44060420e-01\n",
      "  -9.19481713e-01 -1.03655495e+00 -1.46625026e+00  1.14460168e-01\n",
      "  -3.79572687e-01  1.71425498e+00 -6.84796058e-02  7.30875514e-01\n",
      "   4.48662074e-01 -1.99306710e+00  1.26811881e+00 -5.74265303e-01\n",
      "   1.64774851e+00  1.39352097e+00 -9.57685552e-02  2.05869960e+00\n",
      "  -2.39269402e-02  1.59864056e+00 -8.63668087e-01  6.69957785e-01\n",
      "  -8.88277970e-01 -9.05331983e-01 -1.68637809e-01  5.77512139e-01\n",
      "  -1.39039905e-01 -9.14271753e-01 -1.38312754e-01  8.20037064e-01\n",
      "   6.24716515e-01 -4.94713453e-01  9.26292714e-01  9.35274803e-01\n",
      "   6.89512371e-01 -1.53537819e-01 -9.01776027e-01 -1.86132225e+00\n",
      "   1.13910515e+00 -2.71234977e+00  1.16738209e+00 -1.72434375e-01\n",
      "   9.76407411e-01 -1.15378987e-02  3.14026732e-02 -1.24712607e+00\n",
      "   3.99758962e-02  5.05626965e-02  7.47086416e-01  9.24687168e-01\n",
      "   5.01630807e-01  1.19154801e+00  9.90845897e-01 -7.96195185e-01\n",
      "   1.32326595e+00  2.11097878e-01 -3.71185528e-01  1.58331465e-01\n",
      "  -1.21977460e+00 -6.08054102e-01  4.05565988e-01 -4.08164590e-01\n",
      "  -6.71661404e-01  1.28139891e+00  5.61505846e-01  1.62993171e+00\n",
      "   1.46886786e+00 -8.30052451e-01  6.48822905e-02 -4.88434226e-01\n",
      "   1.33580006e+00 -3.57865091e-01  6.82309734e-01 -9.47282733e-01\n",
      "   1.78307761e+00 -1.84091286e+00 -1.81346722e+00  7.93517406e-01\n",
      "   1.08024712e+00 -8.61748548e-01  7.42036685e-01  3.46040188e-01\n",
      "  -1.54832733e+00  1.25517145e+00  1.85033887e+00 -2.31125230e+00\n",
      "  -5.66805919e-01  6.75798275e-01 -1.57297847e+00  9.85210658e-02\n",
      "   9.42827411e-01  2.47832704e-01  8.24131495e-01 -2.12518605e+00\n",
      "  -7.91300570e-01 -1.80311362e-01  8.43780623e-01  4.33054409e-01\n",
      "   9.51668394e-01 -1.47165741e+00  1.21000225e-01  2.41237755e-02\n",
      "  -1.18331960e+00  1.38399592e+00  2.05428240e+00  1.58262946e-01\n",
      "   1.11890496e+00  7.04146338e-01  9.19074034e-01  5.43306965e-01\n",
      "   1.72763861e+00  8.49059990e-01  5.30929841e-01  3.94675511e-01\n",
      "   1.11226618e+00  4.75656882e-01 -1.07377704e-01  1.10411350e+00\n",
      "  -8.74130890e-01 -5.98071713e-01 -6.99817807e-01  6.44501401e-01\n",
      "  -2.12895347e-01  2.15423575e-01  1.24202802e+00  3.80918433e-03\n",
      "   1.54043103e+00  5.19044599e-01  7.94786152e-01  7.08300471e-01\n",
      "   9.93663498e-02  2.01014036e+00 -1.47748373e+00  1.11006368e-01\n",
      "  -5.10734172e-01 -2.12908541e-01  8.87600832e-02  1.42608296e+00\n",
      "   3.20877939e-01 -2.17657796e-01  2.41701177e-01 -1.25141882e+00\n",
      "  -2.20980912e-01 -2.06709903e-01 -1.82935263e-01  5.91637810e-01\n",
      "  -1.70349024e+00 -4.14155716e-01  1.38501718e-01  2.15601456e-01\n",
      "   1.58578047e+00 -1.85836453e-01 -2.20438787e-02 -5.52813032e-01\n",
      "   3.30562057e-01 -6.35482171e-01 -7.17752153e-02  7.91535143e-01\n",
      "  -1.45679927e+00 -4.09761187e-01  9.86455425e-01 -3.17196666e-02\n",
      "   6.76951524e-01 -2.46660119e+00 -6.85227415e-01  1.68950224e+00\n",
      "  -8.58013013e-01  8.09111054e-01 -1.21145802e+00 -8.42412769e-01\n",
      "   5.65200906e-01  1.27892342e+00  1.36855027e-02 -9.62909019e-01\n",
      "   1.14519624e+00  1.78569154e+00  8.97799770e-01 -1.79363031e-01\n",
      "  -1.34377885e+00 -6.12471970e-01 -2.83009026e+00 -1.68605326e+00\n",
      "   4.08949742e-01  1.10762702e+00 -1.62330186e+00 -1.40116473e+00\n",
      "  -9.33738439e-02 -8.54168281e-01 -5.38561517e-01 -6.98849723e-01\n",
      "  -1.25993098e+00  4.01681524e-01 -2.66008796e-01  2.28209384e+00\n",
      "  -1.33913530e-01  1.54679066e+00 -3.39569692e-01  6.79044335e-01\n",
      "   4.59842319e-03 -2.55763066e-01 -1.17676734e+00 -9.05468071e-01\n",
      "  -4.53755025e-01 -5.99589370e-01 -5.57725294e-01 -7.45657399e-01\n",
      "   1.59463331e+00 -1.02035331e+00 -4.85670069e-01 -4.59522982e-03\n",
      "   2.64782541e-01  2.28576543e-01 -1.23090016e+00  8.73294836e-01\n",
      "  -4.64179142e-01 -4.04410147e-01  8.55434002e-01 -4.31702412e-01\n",
      "   2.24022327e+00 -2.48381669e-01 -7.16693223e-01 -2.47891446e-01\n",
      "   5.84469520e-01  5.43437694e-01 -1.22826636e+00 -8.56925567e-01\n",
      "   1.94563989e+00  8.89829015e-02 -1.48516271e+00 -1.43868045e+00\n",
      "  -8.27307143e-01  8.25958247e-01  8.15051870e-01  1.69476652e+00\n",
      "  -8.68322404e-01 -1.19611724e+00 -7.45141703e-01 -1.23790788e+00\n",
      "   1.75922796e+00  6.11362653e-01  9.64102634e-01  1.59529859e+00\n",
      "   1.60046366e-01  4.92837137e-01 -1.51436890e+00  2.54143296e+00\n",
      "  -1.87302511e-01 -5.34725747e-01  1.01841747e+00  7.63294299e-02\n",
      "   1.33168509e+00 -3.28410370e-01  1.74767204e-01  4.98654445e-01\n",
      "   1.56092053e+00 -1.33486437e+00  1.44328216e+00  2.70470888e+00\n",
      "  -1.70306369e+00  1.13084691e+00  1.57889498e+00 -4.53280405e-01\n",
      "   5.49849103e-01  5.67305752e-01 -1.63531519e-01 -7.40159226e-01\n",
      "   7.16321882e-01  1.71468214e+00 -4.43959005e-01 -1.49774467e+00\n",
      "  -1.46519399e+00 -4.64862176e-01 -7.37527661e-01  2.57844330e+00\n",
      "   9.98046030e-01 -1.45313928e+00  9.88452159e-01 -3.76243446e-02\n",
      "   4.19007614e-01 -2.02534622e-01  2.62147004e-01 -2.61345765e+00\n",
      "   3.44391370e-02 -1.26849872e-01  9.56818368e-01  1.09944807e+00\n",
      "  -1.50940154e+00 -3.80683880e-01 -4.70014783e-01 -1.01009287e+00\n",
      "  -5.76207700e-01 -3.61747904e-01  7.91939037e-01  1.59457949e+00\n",
      "  -1.43601148e+00  3.11095972e-01  1.50256075e+00  1.44164951e+00\n",
      "   3.10388880e-02  2.09244274e+00 -9.35891894e-01  2.19185393e-02\n",
      "  -2.01940511e+00 -8.25141433e-01 -2.05042882e+00  7.32870487e-01\n",
      "   7.74350765e-01 -1.03478606e+00  8.28694342e-02  1.36736543e+00\n",
      "  -4.84696647e-01  1.36115294e+00 -4.23083274e-01 -2.00546476e+00\n",
      "   6.40892366e-01  7.68724271e-01 -3.50469990e-01 -3.99845028e-01\n",
      "   6.37983568e-01 -1.11628580e+00  2.66810788e+00 -8.20009430e-01\n",
      "   1.28988390e+00  1.03677531e+00 -2.19579386e-01  1.52686665e+00\n",
      "   4.21774418e-01 -6.87729855e-01  1.04006312e+00 -2.10576745e+00\n",
      "  -5.96520522e-01  9.12999506e-01  7.33963321e-01 -6.62412642e-01\n",
      "  -5.15762304e-01  6.04240870e-01  5.19524023e-01 -1.13048064e+00\n",
      "  -2.51255168e-01  1.24378343e+00  6.15750798e-01 -4.55323300e-02\n",
      "  -8.18141256e-01 -4.25164438e-01 -6.99001277e-01 -9.46018594e-01\n",
      "  -4.48491089e-02  4.77918048e-01  5.16600216e-01  8.97303593e-01\n",
      "   9.40365462e-01  1.71562071e+00 -3.09268876e-01  4.04256151e-01\n",
      "   1.99887743e+00 -6.69073707e-01 -4.02954483e-01  6.38205027e-01\n",
      "   2.15535544e+00  2.50514026e+00  2.75331988e-01  9.80474840e-02\n",
      "   5.49119160e-02  4.33777661e-01 -6.27588150e-01  6.35981821e-01\n",
      "   1.62402545e+00 -1.13175798e+00  7.45539853e-01 -3.76582317e-01\n",
      "  -3.72468473e-01  4.74826108e-01  1.05292893e+00 -4.18066607e-01\n",
      "   1.27351603e+00  3.78152264e-01 -1.10448440e+00  8.28398447e-01\n",
      "   1.29675234e+00  4.25723263e-01  3.45529542e-01  1.42858207e+00\n",
      "   2.22514091e-01  6.09663212e-01  1.35500377e+00 -2.00423096e+00\n",
      "   4.03585490e-01 -1.28324079e-02  9.22190023e-01  1.44641710e+00\n",
      "  -1.59510081e+00 -1.23224844e+00  1.31354915e+00 -3.67876018e-02\n",
      "   8.13170667e-01  1.17597809e+00  1.87080542e+00  8.71714222e-01\n",
      "   8.35181896e-01  6.00633062e-01  2.87148209e-01 -1.05230979e+00\n",
      "   3.68585476e-01  5.09818369e-01 -3.76414824e-01  3.40919196e-02\n",
      "   1.88714239e-01  5.44828353e-01 -1.01160592e+00  1.97715823e-01]]\n"
     ]
    }
   ],
   "source": [
    "# We can also use numpy to generate random values.\n",
    "randn = np.random.randn(1, 1000)\n",
    "# print the shape of randn\n",
    "#<------------INSERT CODE HERE------------>\n",
    "print(randn.shape)\n",
    "\n",
    "# print the first 10 elements of randn. What happens if you re-run this code?\n",
    "#<------------INSERT CODE HERE------------>\n",
    "\n",
    "print(randn[:10])"
   ]
  },
  {
   "cell_type": "code",
   "execution_count": 78,
   "metadata": {},
   "outputs": [
    {
     "name": "stdout",
     "output_type": "stream",
     "text": [
      "[[0.51729788 0.9469626 ]\n",
      " [0.76545976 0.28239584]\n",
      " [0.22104536 0.68622209]]\n"
     ]
    }
   ],
   "source": [
    "np.random.seed(23)\n",
    "\n",
    "# Generate a new array of random numbers, this time of shape (3, 2) and print it.\n",
    "# What happens when you re-run the code now?\n",
    "# TIP: you might want to save the result to compare the previous and the new one\n",
    "\n",
    "#<------------INSERT CODE HERE------------>\n",
    "rand1 = np.random.rand(3,2)\n",
    "print(rand1)\n",
    "# Think: what does np.seed() do? (Use Google if you don't know!)"
   ]
  },
  {
   "cell_type": "markdown",
   "metadata": {},
   "source": [
    "#### Combine arrays"
   ]
  },
  {
   "cell_type": "code",
   "execution_count": 82,
   "metadata": {},
   "outputs": [
    {
     "name": "stdout",
     "output_type": "stream",
     "text": [
      "(2, 4)\n",
      "(2, 4)\n",
      "[1 2 3 4 1 2 3 4 5 6 7 8 5 6 7 8]\n",
      "(16,)\n",
      "[[1 2 3 4]\n",
      " [1 2 3 4]\n",
      " [5 6 7 8]\n",
      " [5 6 7 8]]\n",
      "(4, 4)\n",
      "[[1 2 3 4 5 6 7 8]\n",
      " [1 2 3 4 5 6 7 8]]\n",
      "(2, 8)\n",
      "[[1 2 3 4]\n",
      " [1 2 3 4]\n",
      " [5 6 7 8]\n",
      " [5 6 7 8]]\n",
      "(4, 4)\n",
      "[[1 2 3 4 5 6 7 8]\n",
      " [1 2 3 4 5 6 7 8]]\n",
      "(2, 8)\n"
     ]
    }
   ],
   "source": [
    "arr1 = np.array([[1, 2, 3, 4], [1, 2, 3, 4]])\n",
    "arr2 = np.array([[5, 6, 7, 8], [5, 6, 7 , 8]])\n",
    "\n",
    "# Print the shapes of arr1 and arr2 and cat after each of the types of concatenations.\n",
    "# Concatenating arrays is a very common operation. Make sure you understand it!\n",
    "# TIP: it might help you to print the actual cat array after each type of concatenation too\n",
    "\n",
    "#<------------INSERT CODE HERE------------>\n",
    "\n",
    "print(arr1.shape)\n",
    "print(arr2.shape)\n",
    "\n",
    "# axis_a = np.concatenate((arr1, arr2), axis=0)\n",
    "# axis_b = np.concatenate((arr1, arr2), axis=1)\n",
    "axis_c = np.concatenate((arr1, arr2), axis=None)\n",
    "\n",
    "# print(axis_a)\n",
    "# print(axis_b)\n",
    "print(axis_c)\n",
    "\n",
    "# print(axis_a.shape)\n",
    "# print(axis_b.shape)\n",
    "print(axis_c.shape)\n",
    "\n",
    "# concatenate along the row\n",
    "cat = np.concatenate((arr1, arr2), axis=0)\n",
    "#<------------INSERT CODE HERE------------>\n",
    "print(cat)\n",
    "print(cat.shape)\n",
    "\n",
    "# concatenate along the column\n",
    "cat = np.concatenate((arr1, arr2), axis=1)    \n",
    "#<------------INSERT CODE HERE------------>\n",
    "\n",
    "print(cat)\n",
    "print(cat.shape)\n",
    "\n",
    "# stack arrays vertically\n",
    "cat = np.vstack((arr1, arr2))\n",
    "#<------------INSERT CODE HERE------------>\n",
    "\n",
    "print(cat)\n",
    "print(cat.shape)\n",
    "\n",
    "# stack arrays horizontally\n",
    "cat = np.hstack((arr1, arr2))\n",
    "#<------------INSERT CODE HERE------------>\n",
    "print(cat)\n",
    "print(cat.shape)\n"
   ]
  },
  {
   "cell_type": "markdown",
   "metadata": {},
   "source": [
    "#### Operations with arrays"
   ]
  },
  {
   "cell_type": "code",
   "execution_count": 99,
   "metadata": {},
   "outputs": [
    {
     "name": "stdout",
     "output_type": "stream",
     "text": [
      "[20 30 40 50]\n",
      "[0 1 2 3]\n"
     ]
    }
   ],
   "source": [
    "#Let's create a couple of vectors using numpy\n",
    "v1 = np.array([20, 30, 40, 50])\n",
    "v2 = np.arange(4)\n",
    "\n",
    "print(v1)\n",
    "print(v2)\n",
    "#And a couple of matrices\n",
    "mat1 = np.array([[1, 2, 3, 4], [1, 2, 3, 4]])\n",
    "mat2 = mat1.T # this is the transpose of mat1"
   ]
  },
  {
   "cell_type": "code",
   "execution_count": 97,
   "metadata": {},
   "outputs": [
    {
     "name": "stdout",
     "output_type": "stream",
     "text": [
      "[25 35 45 55]\n",
      "[[   1    2    3    4 2367]\n",
      " [   1    2    3    4 2367]]\n"
     ]
    }
   ],
   "source": [
    "# Add a number to an array of 1-D (i.e., a vector)\n",
    "print(5 + v1)\n",
    "# Compare the line above to your function vector_plus_num(vector, number) from Part 1.\n",
    "\n",
    "# Does your function work with matrices?\n",
    "\n",
    "# How do you add a number to a np.array object? Try adding 2367 to mat1\n",
    "\n",
    "#<------------INSERT CODE HERE------------>\n",
    "\n",
    "print(np.insert(mat1, 4, 2367, axis=1))\n",
    "# print(np.insert(mat1, 1, 2367, axis=0))\n",
    "# print(np.insert(mat1, 2, 2367))"
   ]
  },
  {
   "cell_type": "code",
   "execution_count": 100,
   "metadata": {},
   "outputs": [
    {
     "name": "stdout",
     "output_type": "stream",
     "text": [
      "Adding two vectors [20 31 42 53]\n",
      "Subtracting two vectors [20 29 38 47]\n",
      "[0.         1.         1.41421356 1.73205081]\n",
      "[2.99573227 3.40119738 3.68887945 3.91202301]\n",
      "[1.30103    1.47712125 1.60205999 1.69897   ]\n"
     ]
    }
   ],
   "source": [
    "# Let's try to add and subtract vectors now:\n",
    "print(\"Adding two vectors\", v1 + v2)\n",
    "print(\"Subtracting two vectors\", v1 - v2)\n",
    "\n",
    "# What happens if you try to add two vectors of different length?\n",
    "\n",
    "\n",
    "# Square root of each elemnt of v2:\n",
    "print(np.sqrt(v2))\n",
    "\n",
    "# Calculate the logarithm of each element of v1\n",
    "# TIP: check if you can do this using some numpy function!\n",
    "\n",
    "#<------------INSERT CODE HERE------------>\n",
    "\n",
    "print(np.log(v1))\n",
    "print(np.log10(v1))"
   ]
  },
  {
   "cell_type": "markdown",
   "metadata": {},
   "source": [
    "### Multiplication of vectors\n",
    "\n",
    "There are a number of functions in numpy that you can use to multiply vectors and matrices.\n",
    "\n",
    "Scalar product of two vectors: np.dot(vector1, vector2)\n",
    "\n",
    "Vector product of two vectors: np.cross(x, y)"
   ]
  },
  {
   "cell_type": "code",
   "execution_count": 102,
   "metadata": {},
   "outputs": [
    {
     "name": "stdout",
     "output_type": "stream",
     "text": [
      "15021\n",
      "-47.665451057784686\n",
      "-47.66545105778464\n"
     ]
    }
   ],
   "source": [
    "# Calculate the scalar product of v1 and v2 using your function from part 1 and the numpy function.\n",
    "#<------------INSERT CODE HERE------------>\n",
    "\n",
    "scalarProduct = np.dot(vector1,vector2)\n",
    "\n",
    "# Check if the result is the same using your function from Part 1\n",
    "\n",
    "#<------------INSERT CODE HERE------------>\n",
    "print(scalarProduct)\n",
    "\n",
    "\n",
    "v3 = np.random.randn(4000)\n",
    "v4 = np.random.randn(4000)\n",
    "# Calculate the scalar product of v3 and v4 using your function from part 1 and the numpy function.\n",
    "# Compare the time it takes to execute each of them.\n",
    "# HINT: https://stackoverflow.com/questions/7370801/measure-time-elapsed-in-python\n",
    "\n",
    "#<------------INSERT CODE HERE------------>\n",
    "\n",
    "print(scalar_product(v3, v4))\n",
    "print(np.dot(v3,v4))\n"
   ]
  },
  {
   "cell_type": "code",
   "execution_count": 112,
   "metadata": {},
   "outputs": [
    {
     "name": "stdout",
     "output_type": "stream",
     "text": [
      "[ 20 -40  20]\n"
     ]
    }
   ],
   "source": [
    "# Calculate the vector product of v1 and v2 using the numpy function.\n",
    "\n",
    "#<------------INSERT CODE HERE------------>\n",
    "\n",
    "v1 = [20, 30, 40]\n",
    "v2 = [0, 1, 2]\n",
    "\n",
    "print(np.cross(v1, v2))"
   ]
  },
  {
   "cell_type": "markdown",
   "metadata": {},
   "source": [
    "### Matrix multiplication\n",
    "\n",
    "This can be done on numpy using: np.matmul(a, b)"
   ]
  },
  {
   "cell_type": "code",
   "execution_count": 115,
   "metadata": {},
   "outputs": [
    {
     "name": "stdout",
     "output_type": "stream",
     "text": [
      "[[30 30]\n",
      " [30 30]]\n",
      "[[30, 30], []]\n"
     ]
    }
   ],
   "source": [
    "# Check the result of multiplying mat1 and mat2 using the numpy function and the one you created in part 1.\n",
    "# Check the execution time for each of them. Which one is faster? \n",
    "\n",
    "#<------------INSERT CODE HERE------------>\n",
    "\n",
    "print(np.matmul(mat1, mat2))\n",
    "\n",
    "# Is it the same result?\n",
    "\n",
    "#<------------INSERT CODE HERE------------>\n",
    "print(matrix_multiplication(mat1, mat2))"
   ]
  },
  {
   "cell_type": "markdown",
   "metadata": {},
   "source": [
    "**Plotting a function**"
   ]
  },
  {
   "cell_type": "code",
   "execution_count": 116,
   "metadata": {},
   "outputs": [],
   "source": [
    "import matplotlib.pyplot as plt"
   ]
  },
  {
   "cell_type": "code",
   "execution_count": 117,
   "metadata": {},
   "outputs": [
    {
     "ename": "NameError",
     "evalue": "name 't' is not defined",
     "output_type": "error",
     "traceback": [
      "\u001b[0;31m---------------------------------------------------------------------------\u001b[0m",
      "\u001b[0;31mNameError\u001b[0m                                 Traceback (most recent call last)",
      "\u001b[0;32m<ipython-input-117-81408edb202f>\u001b[0m in \u001b[0;36m<module>\u001b[0;34m\u001b[0m\n\u001b[1;32m      1\u001b[0m \u001b[0mplt\u001b[0m\u001b[0;34m.\u001b[0m\u001b[0mfigure\u001b[0m\u001b[0;34m(\u001b[0m\u001b[0;34m)\u001b[0m\u001b[0;34m\u001b[0m\u001b[0;34m\u001b[0m\u001b[0m\n\u001b[0;32m----> 2\u001b[0;31m \u001b[0mplt\u001b[0m\u001b[0;34m.\u001b[0m\u001b[0mplot\u001b[0m\u001b[0;34m(\u001b[0m\u001b[0mt\u001b[0m\u001b[0;34m,\u001b[0m \u001b[0msin\u001b[0m\u001b[0;34m)\u001b[0m\u001b[0;34m\u001b[0m\u001b[0;34m\u001b[0m\u001b[0m\n\u001b[0m\u001b[1;32m      3\u001b[0m \u001b[0mplt\u001b[0m\u001b[0;34m.\u001b[0m\u001b[0mxlabel\u001b[0m\u001b[0;34m(\u001b[0m\u001b[0;34m\"Time\"\u001b[0m\u001b[0;34m)\u001b[0m\u001b[0;34m\u001b[0m\u001b[0;34m\u001b[0m\u001b[0m\n\u001b[1;32m      4\u001b[0m \u001b[0mplt\u001b[0m\u001b[0;34m.\u001b[0m\u001b[0mylabel\u001b[0m\u001b[0;34m(\u001b[0m\u001b[0;34m\"sin(1/4*pi*t)\"\u001b[0m\u001b[0;34m)\u001b[0m\u001b[0;34m\u001b[0m\u001b[0;34m\u001b[0m\u001b[0m\n\u001b[1;32m      5\u001b[0m \u001b[0mplt\u001b[0m\u001b[0;34m.\u001b[0m\u001b[0mtitle\u001b[0m\u001b[0;34m(\u001b[0m\u001b[0;34m\"Sinusoidal function\"\u001b[0m\u001b[0;34m)\u001b[0m\u001b[0;34m\u001b[0m\u001b[0;34m\u001b[0m\u001b[0m\n",
      "\u001b[0;31mNameError\u001b[0m: name 't' is not defined"
     ]
    },
    {
     "data": {
      "text/plain": [
       "<Figure size 432x288 with 0 Axes>"
      ]
     },
     "metadata": {},
     "output_type": "display_data"
    }
   ],
   "source": [
    "plt.figure()\n",
    "plt.plot(t, sin)\n",
    "plt.xlabel(\"Time\")\n",
    "plt.ylabel(\"sin(1/4*pi*t)\")\n",
    "plt.title(\"Sinusoidal function\")\n",
    "plt.show()"
   ]
  },
  {
   "cell_type": "code",
   "execution_count": null,
   "metadata": {},
   "outputs": [],
   "source": [
    "print(np.max(sin))\n",
    "print(np.min(sin))\n",
    "\n",
    "## Elementwise minimum and maximum\n",
    "arr1 = np.array([1, 3, 5, 7, 9])\n",
    "arr2 = np.array([0, 4, 3, 8, 7])\n",
    "print(np.maximum(arr1, arr2))\n",
    "print(np.minimum(arr1, arr2))"
   ]
  },
  {
   "cell_type": "code",
   "execution_count": 118,
   "metadata": {
    "scrolled": true
   },
   "outputs": [
    {
     "name": "stdout",
     "output_type": "stream",
     "text": [
      "0.04530141371765461\n",
      "0.06462433906215606\n",
      "1.0229911859336371\n"
     ]
    }
   ],
   "source": [
    "# Statistical summaries \n",
    "\n",
    "print(np.mean(randn))\n",
    "print(np.median(randn))\n",
    "print(np.std(randn))\n",
    "\n"
   ]
  },
  {
   "cell_type": "markdown",
   "metadata": {},
   "source": [
    "Create a 5 (channels) x 100 (samples) matrix of random integers between 0 and 543 and retrieve the following information:\n",
    "    - the max, min, mean of all samples.\n",
    "    - the mean and variance of each channel\n"
   ]
  },
  {
   "cell_type": "code",
   "execution_count": null,
   "metadata": {},
   "outputs": [],
   "source": [
    "#<------------INSERT CODE HERE------------>"
   ]
  },
  {
   "cell_type": "markdown",
   "metadata": {},
   "source": [
    "Use the function hist() from matplotlib to show the histogram of values of the third channel."
   ]
  },
  {
   "cell_type": "code",
   "execution_count": null,
   "metadata": {},
   "outputs": [],
   "source": [
    "#<------------INSERT CODE HERE------------>"
   ]
  }
 ],
 "metadata": {
  "kernelspec": {
   "display_name": "Python 3",
   "language": "python",
   "name": "python3"
  },
  "language_info": {
   "codemirror_mode": {
    "name": "ipython",
    "version": 3
   },
   "file_extension": ".py",
   "mimetype": "text/x-python",
   "name": "python",
   "nbconvert_exporter": "python",
   "pygments_lexer": "ipython3",
   "version": "3.7.1"
  }
 },
 "nbformat": 4,
 "nbformat_minor": 2
}
