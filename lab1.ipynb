{
 "cells": [
  {
   "cell_type": "markdown",
   "metadata": {},
   "source": [
    "# CE888: Data Science and Decision Making Lab 1\n"
   ]
  },
  {
   "cell_type": "markdown",
   "metadata": {},
   "source": [
    "Over today's practice you'll learn:\n",
    "* to use JuPyter notebooks to quickly prototype code and show results\n",
    "* the numerical Python library\n",
    "\n",
    "This lab is divided in two parts. In each of them, you will have to fill in the gaps following the instructions given.\n",
    "The prompts for you to write code will look like this:"
   ]
  },
  {
   "cell_type": "code",
   "execution_count": 1,
   "metadata": {
    "collapsed": true
   },
   "outputs": [],
   "source": [
    "#<------------INSERT CODE HERE------------>"
   ]
  },
  {
   "cell_type": "markdown",
   "metadata": {},
   "source": [
    "This might involve more than one line of code from you!\n",
    "\n",
    "Do **not** delete code from the notebook.\n",
    "\n",
    "Let's start!"
   ]
  },
  {
   "cell_type": "markdown",
   "metadata": {},
   "source": [
    "## Part 1\n",
    "\n",
    "In the first part of the lab we're going to check your Python skills and, in particular, we will ask you to create some functions to operate on vectors and matrices.\n",
    "\n"
   ]
  },
  {
   "cell_type": "markdown",
   "metadata": {},
   "source": [
    "### Operations with vectors"
   ]
  },
  {
   "cell_type": "code",
   "execution_count": 2,
   "metadata": {},
   "outputs": [
    {
     "name": "stdout",
     "output_type": "stream",
     "text": [
      "[1, 2, 4, 78, 93]\n",
      "The vector has 5 elements\n"
     ]
    }
   ],
   "source": [
    "# Let's create a vector. We can do this as a Python built-in type: the list\n",
    "vector1 = [1, 2, 4, 78, 93] # we declare the vector as a list of elements\n",
    "\n",
    "print(vector1)\n",
    "print(\"The vector has %d elements\" % len(vector1))"
   ]
  },
  {
   "cell_type": "code",
   "execution_count": 3,
   "metadata": {
    "collapsed": true
   },
   "outputs": [],
   "source": [
    "# Let's add a number to every element of the vector.\n",
    "## Exercise: create a function that, given a vector and a number,\n",
    "## returns the addition of that number to each element of the vector\n",
    "\n",
    "# import numpy as np\n",
    "\n",
    "def vector_plus_num(vector, number):\n",
    "    \n",
    "    #<------------INSERT CODE HERE------------>\n",
    "        \n",
    "    vector = [x+number for x in vector]\n",
    "     \n",
    "    return vector"
   ]
  },
  {
   "cell_type": "code",
   "execution_count": 4,
   "metadata": {},
   "outputs": [
    {
     "name": "stdout",
     "output_type": "stream",
     "text": [
      "[6, 7, 9, 83, 98]\n",
      "[-32, -31, -29, 45, 60]\n"
     ]
    }
   ],
   "source": [
    "# Let's test your function:\n",
    "print(vector_plus_num(vector1, 5))\n",
    "print(vector_plus_num(vector1, -33))"
   ]
  },
  {
   "cell_type": "markdown",
   "metadata": {},
   "source": [
    "What if we now wanted to mutiply a number and a vector? **Do not do it**, just think about what you'd need!"
   ]
  },
  {
   "cell_type": "markdown",
   "metadata": {},
   "source": [
    "And what if we want to calculate the mean value of your vector?"
   ]
  },
  {
   "cell_type": "code",
   "execution_count": 5,
   "metadata": {
    "collapsed": true
   },
   "outputs": [],
   "source": [
    "## Exercise: create a function that, given a vector,\n",
    "## returns the mean value of its elements.\n",
    "def vector_mean(vector):\n",
    "    \n",
    "    #<------------INSERT CODE HERE------------>\n",
    "          \n",
    "    return sum(vector) / len(vector) \n",
    "\n",
    "vector = [4, 5, 7, 81, 96]\n",
    "mean = vector_mean(vector)"
   ]
  },
  {
   "cell_type": "code",
   "execution_count": 6,
   "metadata": {},
   "outputs": [
    {
     "name": "stdout",
     "output_type": "stream",
     "text": [
      "Mean of the vector = 38.6\n"
     ]
    }
   ],
   "source": [
    "# Now test your function:\n",
    "\n",
    "#<------------INSERT CODE HERE------------>\n",
    "\n",
    "print(\"Mean of the vector =\", round(mean, 2))"
   ]
  },
  {
   "cell_type": "markdown",
   "metadata": {},
   "source": [
    "We will now work on operations between pairs of vectors."
   ]
  },
  {
   "cell_type": "code",
   "execution_count": 7,
   "metadata": {
    "collapsed": true
   },
   "outputs": [],
   "source": [
    "# Now let's create a new vector, called vector2, of the same length as vector1.\n",
    "# We will then look at operations with multiple vectors, \n",
    "# such as adding and subtracting them, and vector multiplications.\n",
    "vector2 = [5, 8, 11, 18, 88] #<------------INSERT CODE HERE------------>\n",
    "\n",
    "assert len(vector1) == len(vector2), \"The vectors are not of the same length\""
   ]
  },
  {
   "cell_type": "code",
   "execution_count": 8,
   "metadata": {
    "collapsed": true
   },
   "outputs": [],
   "source": [
    "# Create a function that returns new vector of the same length as vector1 and vector2, \n",
    "# for which each element is the sum of the corresponding elements from vector1 and vector2.\n",
    "\n",
    "# Feel free to create a function to do this!\n",
    "\n",
    "def add_two_vectors(vector1, vector2):\n",
    "    #<------------INSERT CODE HERE------------>\n",
    "    \n",
    "    sumVec = [x+y for x,y in zip(vector1, vector2)]\n",
    "    \n",
    "    \n",
    "    return sumVec"
   ]
  },
  {
   "cell_type": "code",
   "execution_count": 9,
   "metadata": {},
   "outputs": [
    {
     "name": "stdout",
     "output_type": "stream",
     "text": [
      "[6, 10, 15, 96, 181]\n",
      "[2, 4, 7]\n"
     ]
    }
   ],
   "source": [
    "# Let's test your function:\n",
    "print(add_two_vectors(vector1, vector2))\n",
    "print(add_two_vectors(vector1, [1, 2, 3]))\n",
    "# If the second print resulted in an error, don't worry about it for now!"
   ]
  },
  {
   "cell_type": "markdown",
   "metadata": {},
   "source": [
    "How about the multiplication of vectors?\n",
    "There are two types of vector multiplications:\n",
    "* The dot product (or scalar product) takes two vectors and returns a scalar.\n",
    "* The cross product (or vector product) takes two vectors and returns another vector."
   ]
  },
  {
   "cell_type": "markdown",
   "metadata": {},
   "source": [
    "Now let's create a function that returns the scalar product of two vectors.\n",
    "\n",
    "This can be done by multiplying pairs of elements and adding the result:\n",
    "\n",
    "A = [A1, A2, A3, ..., An]\n",
    "\n",
    "B = [B1, B2, B3, ..., Bn]\n",
    "\n",
    "A · B = A1·B1 + A2·B2 + ... An·Bn"
   ]
  },
  {
   "cell_type": "code",
   "execution_count": 10,
   "metadata": {
    "collapsed": true
   },
   "outputs": [],
   "source": [
    "def scalar_product(vec1, vec2):\n",
    "    #<------------INSERT CODE HERE------------>\n",
    "    \n",
    "    scalarProduct = sum(x*y for x,y in zip(vec1,vec2))\n",
    "    \n",
    "    # scalarProduct = np.dot(vector1,vector2)\n",
    "    \n",
    "    return scalarProduct"
   ]
  },
  {
   "cell_type": "code",
   "execution_count": 11,
   "metadata": {},
   "outputs": [
    {
     "name": "stdout",
     "output_type": "stream",
     "text": [
      "9653\n"
     ]
    }
   ],
   "source": [
    "# Test your function\n",
    "\n",
    "#<------------INSERT CODE HERE------------>\n",
    "\n",
    "print(scalar_product(vector1, vector2))"
   ]
  },
  {
   "cell_type": "markdown",
   "metadata": {},
   "source": [
    "### Operations with matrices\n",
    "\n",
    "Again, there are multiple things we can do with matrices. For example, adding/subtracting/multiplying a number to each element of a matrix and matrix multiplication.\n",
    "\n",
    "We're going to attempt the last one only."
   ]
  },
  {
   "cell_type": "code",
   "execution_count": 12,
   "metadata": {
    "collapsed": true
   },
   "outputs": [],
   "source": [
    "# Create a function that receives two matrices as input and returns the matrix multiplication of the two\n",
    "# If you don't know how to multiply two matrices, check:\n",
    "# https://en.wikipedia.org/wiki/Matrix_multiplication#Definition\n",
    "\n",
    "def matrix_multiplication(matrix1, matrix2):\n",
    "    \n",
    "    #<------------INSERT CODE HERE------------>\n",
    "    \n",
    "    zip_matrix2 = zip(*matrix2)\n",
    "    multipl_result = [[sum(ele_matrix1*ele_matrix2 for ele_matrix1, ele_matrix2 in zip(row_matrix1, col_matrix2)) \n",
    "             for col_matrix2 in zip_matrix2] for row_matrix1 in matrix1]\n",
    "\n",
    "    return multipl_result"
   ]
  },
  {
   "cell_type": "code",
   "execution_count": 13,
   "metadata": {
    "collapsed": true
   },
   "outputs": [],
   "source": [
    "# And let's test your function:\n",
    "# NOTE: some of the tests below will give errors. Don't worry about them!\n",
    "matrixA = [[1, 2, 3], [1, 2, 3]]\n",
    "matrixB = [[5, 6, 7], [5, 6, 7], [5, 6, 7]]\n",
    "matrixC = [[8, 9], [8, 9], [8, 9], [8, 9]]\n",
    "matrixD = [[10, 11], [10, 11], [10, 11]]"
   ]
  },
  {
   "cell_type": "code",
   "execution_count": 14,
   "metadata": {},
   "outputs": [
    {
     "name": "stdout",
     "output_type": "stream",
     "text": [
      "[[30, 36, 42], []]\n"
     ]
    }
   ],
   "source": [
    "print(matrix_multiplication(matrixA, matrixB))"
   ]
  },
  {
   "cell_type": "code",
   "execution_count": 15,
   "metadata": {},
   "outputs": [
    {
     "name": "stdout",
     "output_type": "stream",
     "text": [
      "[[48, 54], []]\n"
     ]
    }
   ],
   "source": [
    "print(matrix_multiplication(matrixA, matrixC))"
   ]
  },
  {
   "cell_type": "code",
   "execution_count": 16,
   "metadata": {},
   "outputs": [
    {
     "name": "stdout",
     "output_type": "stream",
     "text": [
      "[[21, 42, 63], [], []]\n"
     ]
    }
   ],
   "source": [
    "print(matrix_multiplication(matrixD, matrixA))"
   ]
  },
  {
   "cell_type": "markdown",
   "metadata": {},
   "source": [
    "Hopefully this has convinced you that operating with vectors and matrices like this is not the best way.\n",
    "Now we will turn to the second part of this lab, in which you will be introduced to the numerical Python library, *numpy*."
   ]
  },
  {
   "cell_type": "markdown",
   "metadata": {},
   "source": [
    "## Part 2: Numpy\n"
   ]
  },
  {
   "cell_type": "markdown",
   "metadata": {},
   "source": [
    "Numpy has a built-in type called the *ndarray*. "
   ]
  },
  {
   "cell_type": "code",
   "execution_count": 17,
   "metadata": {
    "collapsed": true
   },
   "outputs": [],
   "source": [
    "import numpy as np # Importing convention for Numpy"
   ]
  },
  {
   "cell_type": "markdown",
   "metadata": {},
   "source": [
    "#### Creating and manipulating arrays"
   ]
  },
  {
   "cell_type": "code",
   "execution_count": 18,
   "metadata": {},
   "outputs": [
    {
     "name": "stdout",
     "output_type": "stream",
     "text": [
      "[ 1.  2.  3.]\n",
      "float32\n",
      "[ 1.+2.j  3.-4.j]\n",
      "complex64\n",
      "[False  True  True]\n",
      "bool\n",
      "[[1 2 3]\n",
      " [1 2 3]]\n",
      "int64\n",
      "(2, 3)\n",
      "[ 5  8 11 18 88]\n",
      "int64\n",
      "(5,)\n"
     ]
    }
   ],
   "source": [
    "# Create arrays with a specified data type\n",
    "\n",
    "arr = np.array([1, 2, 3], dtype=np.float32)\n",
    "print(arr)\n",
    "print(arr.dtype)\n",
    "\n",
    "arr = np.array([1+2j, 3-4j], dtype=np.complex64)  # an array of complex numbers\n",
    "print(arr)\n",
    "print(arr.dtype)\n",
    "\n",
    "arr = np.array([0, 1, 1], dtype=np.bool)  # an array of True/False values\n",
    "print(arr)\n",
    "print(arr.dtype)\n",
    "\n",
    "# We can also create arrays from the vectors and matrices we had before.\n",
    "arr = np.array(matrixA)\n",
    "print(arr)\n",
    "print(arr.dtype)\n",
    "print(arr.shape)\n",
    "\n",
    "arr = np.array(vector2)\n",
    "print(arr)\n",
    "print(arr.dtype)\n",
    "print(arr.shape)\n"
   ]
  },
  {
   "cell_type": "code",
   "execution_count": 19,
   "metadata": {},
   "outputs": [
    {
     "name": "stdout",
     "output_type": "stream",
     "text": [
      "[0 1 2 3 4 5 6 7 8 9]\n",
      "shape: (10,)\n",
      "dtype: int64\n",
      "dim: 1\n",
      "itemsize: 8\n"
     ]
    }
   ],
   "source": [
    "arr_range2 = np.arange(10)\n",
    "print(arr_range2)\n",
    "\n",
    "# Retrieving information on the array\n",
    "print(\"shape:\", arr_range2.shape)\n",
    "print(\"dtype:\", arr_range2.dtype)\n",
    "print(\"dim:\", arr_range2.ndim)\n",
    "print(\"itemsize:\", arr_range2.itemsize)"
   ]
  },
  {
   "cell_type": "code",
   "execution_count": 20,
   "metadata": {},
   "outputs": [
    {
     "name": "stdout",
     "output_type": "stream",
     "text": [
      "[ 0  5 10 15 20 25 30 35 40 45 50 55 60 65 70 75 80 85 90 95]\n",
      "[  0.           0.52631579   1.05263158   1.57894737   2.10526316\n",
      "   2.63157895   3.15789474   3.68421053   4.21052632   4.73684211\n",
      "   5.26315789   5.78947368   6.31578947   6.84210526   7.36842105\n",
      "   7.89473684   8.42105263   8.94736842   9.47368421  10.        ]\n"
     ]
    }
   ],
   "source": [
    "# We can use the np.arange function to create a range of values:\n",
    "arr = np.arange(0, 100, 5) #np.arange(start, stop, pace)\n",
    "print(arr)\n",
    "# Note: is the last value (100) included?\n",
    "\n",
    "# Similarly, we can use np.linspace:\n",
    "# np.linspace(start, stop, num_of_elements, endpoint=True) \n",
    "arr = np.linspace(0, 10, 20)\n",
    "print(arr)\n",
    "# Note: is the last value (10) included now?"
   ]
  },
  {
   "cell_type": "code",
   "execution_count": 21,
   "metadata": {},
   "outputs": [
    {
     "name": "stdout",
     "output_type": "stream",
     "text": [
      "[[ 1.5  2.   3. ]\n",
      " [ 4.   5.   6. ]]\n",
      "(2, 3)\n"
     ]
    }
   ],
   "source": [
    "arr_2d = np.array([(1.5, 2, 3), (4, 5, 6)]) # creating an array from a list of tuples\n",
    "print(arr_2d)\n",
    "print(arr_2d.shape)"
   ]
  },
  {
   "cell_type": "code",
   "execution_count": 22,
   "metadata": {},
   "outputs": [
    {
     "name": "stdout",
     "output_type": "stream",
     "text": [
      "arr_2d[0,0] : 1.5\n",
      "arr_2d[0,:] :  [ 1.5  2.   3. ]\n",
      "arr_2d[:,0] : [ 1.5  4. ]\n",
      "[ 3.  4.  5.  6.]\n"
     ]
    }
   ],
   "source": [
    "# Slicing (i.e., accessing specific elements of the array)\n",
    "\n",
    "print(\"arr_2d[0,0] :\", arr_2d[0, 0])\n",
    "print(\"arr_2d[0,:] : \", arr_2d[0, :])\n",
    "print(\"arr_2d[:,0] :\", arr_2d[:, 0])\n",
    "\n",
    "print(arr_2d[arr_2d > 2])"
   ]
  },
  {
   "cell_type": "code",
   "execution_count": 23,
   "metadata": {},
   "outputs": [
    {
     "name": "stdout",
     "output_type": "stream",
     "text": [
      "[[ 0.  0.  0.  0.  0.  0.  0.  0.  0.  0.]\n",
      " [ 0.  0.  0.  0.  0.  0.  0.  0.  0.  0.]\n",
      " [ 0.  0.  0.  0.  0.  0.  0.  0.  0.  0.]\n",
      " [ 0.  0.  0.  0.  0.  0.  0.  0.  0.  0.]\n",
      " [ 0.  0.  0.  0.  0.  0.  0.  0.  0.  0.]\n",
      " [ 0.  0.  0.  0.  0.  0.  0.  0.  0.  0.]\n",
      " [ 0.  0.  0.  0.  0.  0.  0.  0.  0.  0.]\n",
      " [ 0.  0.  0.  0.  0.  0.  0.  0.  0.  0.]\n",
      " [ 0.  0.  0.  0.  0.  0.  0.  0.  0.  0.]\n",
      " [ 0.  0.  0.  0.  0.  0.  0.  0.  0.  0.]]\n",
      "(10, 10)\n",
      "[[ 1.  1.  1.  1.]\n",
      " [ 1.  1.  1.  1.]\n",
      " [ 1.  1.  1.  1.]\n",
      " [ 1.  1.  1.  1.]]\n",
      "(4, 4)\n",
      "[[ 1.  1.  1.  1.  1.  1.  1.  1.]\n",
      " [ 1.  1.  1.  1.  1.  1.  1.  1.]]\n",
      "(2, 8)\n"
     ]
    }
   ],
   "source": [
    "# Other types of arrays\n",
    "\n",
    "zeros = np.zeros((10, 10))\n",
    "print(zeros)\n",
    "# print the shape of zeros\n",
    "#<------------INSERT CODE HERE------------>\n",
    "print(zeros.shape)\n",
    "\n",
    "ones = np.ones((4, 4))\n",
    "print(ones)\n",
    "\n",
    "# print the shape of ones\n",
    "#<------------INSERT CODE HERE------------>\n",
    "print(ones.shape)\n",
    "\n",
    "print(ones.reshape(2, 8))\n",
    "# print the shape of ones\n",
    "#<------------INSERT CODE HERE------------>\n",
    "ones_reshape = ones.reshape(2, 8)\n",
    "print(ones_reshape.shape)"
   ]
  },
  {
   "cell_type": "code",
   "execution_count": 24,
   "metadata": {},
   "outputs": [
    {
     "name": "stdout",
     "output_type": "stream",
     "text": [
      "(1, 1000)\n",
      "[[  5.55681875e-01  -1.42918030e+00  -1.37009337e+00  -8.81164724e-01\n",
      "    1.44506653e-02   3.74591314e-01  -4.08213532e-02   1.88899611e+00\n",
      "   -9.71241711e-01   6.54653177e-01   1.40356968e+00   2.53388519e-01\n",
      "   -1.45850033e+00   8.76800966e-01   7.09073324e-01  -2.09576104e+00\n",
      "    7.56067518e-01   2.02902349e-01   5.96803839e-01  -1.91755328e+00\n",
      "   -2.50309924e+00   1.32120997e+00  -1.69061953e+00  -1.97628603e+00\n",
      "    3.90435197e-01   4.31935537e-01   5.83348939e-01  -9.02605691e-01\n",
      "    8.32794505e-01   2.63410510e+00  -1.52995567e+00   5.11775178e-02\n",
      "    8.82622245e-03   9.13487175e-01  -5.59463488e-01   6.39626929e-01\n",
      "    1.78644087e-01  -2.93681957e-01   4.07801993e-01   1.24732512e+00\n",
      "   -2.45742054e+00   1.06282132e+00  -3.51978028e-01  -9.06189692e-01\n",
      "    1.48570631e+00   1.72979601e-01  -1.09115882e-01   9.36429422e-01\n",
      "   -5.78327049e-01   4.76859508e-01  -5.25899952e-02   2.84443170e-01\n",
      "    7.82794095e-01   4.08532772e-01   1.22414322e-01   7.16780030e-01\n",
      "   -1.78309825e+00   4.56839114e-01   3.11173319e-01   5.96176310e-01\n",
      "   -4.55550258e-01  -2.91169083e-01  -2.14138145e+00  -3.50287632e-01\n",
      "   -9.51766891e-02   1.41457318e+00   3.00380934e-02  -1.15426118e-02\n",
      "   -2.70462446e-01  -1.03222049e-01  -6.20202626e-01  -1.02853413e+00\n",
      "    6.07073046e-01   4.45054867e-01  -2.87429590e-01   4.37830821e-01\n",
      "   -7.10429049e-01  -1.36120617e+00   1.12177198e+00  -1.20524324e+00\n",
      "    6.46049023e-01  -7.30703963e-01   2.50739745e-01   1.07677050e+00\n",
      "    1.65479080e-01  -1.16272996e+00  -7.88042026e-01   1.70008822e-01\n",
      "   -7.58006423e-01  -2.04803034e-02   1.90742858e-01   9.49855989e-02\n",
      "    2.90001097e+00  -1.47547834e+00  -2.99180049e-01  -1.38248264e+00\n",
      "    1.39913915e+00  -1.62519884e+00  -6.45953975e-01   3.33707316e-01\n",
      "   -3.07272010e-01  -8.92453998e-01   4.27162686e-01  -4.45295018e-01\n",
      "   -2.49061806e+00  -1.19264569e+00   2.92784046e+00   1.14910261e+00\n",
      "   -8.58706562e-01   6.54043484e-01  -5.29696585e-01  -4.07512520e-01\n",
      "   -1.59505335e+00  -9.52800539e-01  -1.56232900e+00  -8.91115113e-01\n",
      "    6.21319817e-02  -1.62148323e+00   1.33114006e+00   4.65028873e-01\n",
      "    2.43574591e-01   6.11762174e-01   5.18084599e-01  -1.12129572e-01\n",
      "    2.74726863e-02  -2.08224167e+00  -1.02191634e+00   1.02580393e+00\n",
      "   -1.84565105e-01   1.58012344e-01   5.80520863e-01   5.21458968e-01\n",
      "   -1.84371833e-01   5.84081119e-01  -4.48544572e-01  -6.25667135e-01\n",
      "    1.08644132e-01   3.12938160e-01  -7.73338935e-01   1.53793057e+00\n",
      "   -4.54183817e-01  -1.66470843e-01   1.60319558e-01  -3.47291046e-01\n",
      "    6.22620617e-01  -4.99328456e-01  -8.24928658e-01   1.35973426e+00\n",
      "    7.99345163e-01  -3.54661467e-01  -1.46727697e+00   1.19727809e+00\n",
      "   -1.41730387e+00   4.96770572e-01  -1.21210960e+00   3.20824944e-01\n",
      "   -2.85327613e+00   2.93677215e-01  -9.56488877e-01   3.14957111e-01\n",
      "    3.90723412e-01   8.86412426e-01   6.05172152e-01  -1.07692881e+00\n",
      "    4.39320678e-01  -1.33507810e+00   1.45051724e+00   2.14301809e-01\n",
      "   -3.71004907e-01  -9.43805961e-02  -3.68115161e-01  -1.63053948e+00\n",
      "   -6.76161688e-01   4.09045168e-01  -2.06722169e+00   9.23781141e-01\n",
      "    8.64864832e-01   7.13404342e-01  -4.22845143e-01   8.64076029e-01\n",
      "   -3.96716932e-01  -1.78320405e-01   4.95094513e-01   6.19876775e-01\n",
      "    8.16289709e-01   1.03912220e+00  -4.31300529e-01   4.50796493e-01\n",
      "   -1.35449450e+00  -6.79653174e-01  -6.15500347e-01   1.98767005e+00\n",
      "    5.82836476e-01   5.25234521e-01  -3.19188418e-01  -6.92203520e-01\n",
      "   -3.68090772e-02  -3.54178981e-01   4.72504144e-02  -9.71776586e-02\n",
      "   -6.34834373e-01   8.37999564e-01  -4.69893629e-01   1.36372056e+00\n",
      "   -5.35127795e-01  -1.02132212e+00   5.48088137e-01  -1.25287218e+00\n",
      "    3.02978923e-02  -1.89726226e-01   5.73215432e-01   6.89383245e-01\n",
      "   -5.79968752e-01  -7.61576101e-01   1.22706051e+00  -7.92988789e-01\n",
      "    6.46653142e-01   4.08731779e-01  -1.29145907e+00   1.98701715e+00\n",
      "    2.24584825e-02  -2.63492129e-01   3.49074472e-02  -1.46385079e-01\n",
      "    3.92802448e-01   7.47318691e-01   1.62959985e+00  -2.85886501e-01\n",
      "   -1.15053301e+00   1.32686946e-01   3.50851060e-01  -1.30621785e+00\n",
      "    1.54199201e+00  -7.20488424e-01  -1.28403071e+00  -1.37372070e+00\n",
      "    2.11664110e-01   1.03244655e-01   1.58560870e+00  -1.73006810e+00\n",
      "    1.49261674e+00  -2.56019116e+00   5.76500079e-04   7.77836675e-01\n",
      "    6.38753565e-01  -3.24460336e-01   8.41716083e-01  -7.79109204e-01\n",
      "    1.01895349e+00   4.36963450e-01  -1.40868472e+00  -2.77007303e-01\n",
      "    1.49659771e+00  -7.73305255e-01   4.03751017e-01  -4.71262281e-01\n",
      "   -1.11871941e+00   4.39483765e-01   2.57530705e-01   1.10788825e+00\n",
      "    3.15261435e-01  -1.45542668e-01   1.63430890e+00  -5.14716110e-01\n",
      "    5.60067398e-01  -1.09440534e+00  -4.80396356e-01  -9.72445960e-02\n",
      "    6.13233055e-01  -4.94650270e-02   8.58963631e-01  -2.29540283e-01\n",
      "    5.59710891e-01   1.58641800e-01  -5.13311462e-01  -1.20645152e-01\n",
      "    3.04362164e-01  -4.47877633e-02   1.90231238e-01   1.21460525e+00\n",
      "   -6.06205727e-01   2.08187164e-01   6.78831603e-01   1.35249752e+00\n",
      "   -1.81053847e+00   3.64536858e-01   8.16509630e-02   1.50051888e+00\n",
      "   -3.87690887e-02   7.57214781e-01   2.99408658e-01  -6.91158730e-01\n",
      "    1.05137177e+00   8.38676267e-01  -4.52511809e-01  -1.81475146e-01\n",
      "   -4.55681483e-01   4.04621982e-01   1.71254439e-01  -9.20143155e-03\n",
      "   -1.67690027e+00  -2.30697819e-01   3.40008401e-01   1.91779414e-01\n",
      "    9.51216763e-01  -1.22393635e+00   1.49007118e+00   7.10397472e-01\n",
      "    2.98588767e-01  -2.27624718e-01   1.08337988e+00   1.06192597e+00\n",
      "    2.19931475e+00   1.22345844e+00   1.86430640e+00   3.37602158e-01\n",
      "   -8.91407726e-01  -1.77971877e-01   1.45598516e-01  -1.00394873e+00\n",
      "   -3.29157248e-01   2.89011708e-01   4.73140718e-01   5.83057716e-01\n",
      "   -2.18716900e-01   1.43982129e-01   2.13537589e-01   3.66788374e-01\n",
      "    3.38889992e-01  -9.06915885e-02   3.71050792e-01   3.58131290e-01\n",
      "   -2.54731500e+00   2.95123806e-01  -1.94072634e-01   1.96306490e+00\n",
      "    1.08025101e+00   1.15149730e+00   1.26053038e+00  -3.42653755e-01\n",
      "   -1.78657445e+00   4.91310652e-01  -5.32678851e-01  -7.12012085e-01\n",
      "    1.08723980e+00   6.29556097e-01   1.29560792e+00  -1.17530121e+00\n",
      "    8.51413275e-01  -1.35691414e-01  -7.61269002e-01  -8.00114920e-01\n",
      "   -1.51726502e+00   1.59275946e-01  -3.38713909e-01  -9.26022283e-01\n",
      "    3.19394642e+00  -1.29489094e-01  -1.49314612e+00   5.85604946e-01\n",
      "    2.03179971e+00  -1.28566040e+00  -2.91874031e-01  -8.39412962e-01\n",
      "   -1.52286578e+00  -1.73495942e-01   1.70208237e+00   6.21685516e-01\n",
      "    4.05791121e-01   7.97499639e-01   7.12217566e-01  -3.98214674e-01\n",
      "   -1.13528335e+00   1.44603401e+00  -2.49535496e-01   5.33850291e-01\n",
      "   -1.74973347e+00   1.67851791e+00  -1.31156632e+00  -1.36640617e-01\n",
      "   -7.11420359e-01   1.15546820e+00   3.26917066e-01  -5.13835149e-01\n",
      "    2.79302868e-01  -5.10831015e-01   7.92475827e-01  -6.23656563e-01\n",
      "   -1.63252165e+00   9.03099718e-01  -6.29768986e-01  -1.34987864e+00\n",
      "    8.49970912e-01   7.84145621e-01   3.66788620e-01  -5.32000137e-01\n",
      "    6.89175085e-01   6.85503692e-01   1.34039803e+00   1.71940460e+00\n",
      "    1.41181745e-01   5.13914182e-01   1.51333640e+00   8.46587736e-01\n",
      "   -8.71875813e-01   3.33777558e-01   6.71881206e-01   1.09980493e+00\n",
      "   -9.47323184e-01  -1.51221458e-01   1.19743864e-01  -4.36870572e-01\n",
      "   -7.58128210e-01  -1.51146125e+00  -1.08085197e+00   7.69513770e-01\n",
      "   -7.17084513e-01  -7.90783225e-01   1.11218904e-01   6.21100669e-02\n",
      "    1.71978132e-01  -1.33613520e+00  -5.17366095e-01   9.50165124e-01\n",
      "    8.11872332e-01   4.11821997e-01  -3.91465461e-01  -6.54145527e-01\n",
      "   -3.37247833e+00  -1.16795467e+00   1.68125785e+00  -8.01056459e-01\n",
      "    1.17212566e-01   1.43088815e+00  -1.33078666e+00   8.66825671e-01\n",
      "   -1.33158612e+00  -4.03304501e-01  -1.97690653e+00   1.10697505e+00\n",
      "   -6.18560154e-01  -1.11543257e+00   2.47365240e+00  -1.41803503e+00\n",
      "    1.73438002e-01   5.52916067e-01  -1.84109507e+00  -6.79848884e-01\n",
      "   -1.22187333e+00   1.06171857e+00   1.07999697e+00   1.79204437e+00\n",
      "    8.24504969e-01  -1.66896235e+00   1.01993851e+00   1.50953115e+00\n",
      "    1.39821208e+00   1.56192994e-01   1.47209910e+00   4.99974240e-02\n",
      "    4.83385031e-01  -1.20580659e+00   1.61353145e+00  -5.91613430e-01\n",
      "    2.21614506e+00   2.31079162e-01   2.99615653e-01   7.47664485e-01\n",
      "    4.95559530e-01  -3.92956212e-01  -1.61329028e+00  -1.69280594e+00\n",
      "   -1.29420215e+00   1.04109268e-01  -3.49289251e-01   3.20018345e-01\n",
      "   -2.95860425e-01   1.60431041e+00  -1.08835143e+00  -1.67352581e+00\n",
      "    1.03907278e+00   9.31593989e-03   1.46804473e+00   4.25547506e-01\n",
      "   -6.62027967e-01  -1.87653662e+00  -1.59734305e+00  -5.23164886e-01\n",
      "    1.70008990e-01  -1.18654642e-01   7.61810502e-01   7.48416234e-01\n",
      "   -7.79031320e-01   1.09874841e+00   1.04420459e+00   2.46144031e-01\n",
      "   -9.34776298e-01  -1.45968145e+00  -5.19275526e-01  -1.21011176e+00\n",
      "   -3.89722246e-01   2.47183211e-01  -5.70920369e-01  -3.94554362e-01\n",
      "   -8.50909930e-01   1.16521004e+00   3.04056712e+00  -6.62147568e-01\n",
      "   -7.36109029e-01   1.95156103e-01  -5.19779146e-01  -7.37252395e-01\n",
      "    4.15702289e-01   1.64734148e+00  -1.04164494e+00  -9.44583729e-01\n",
      "   -2.43216052e-01   7.51634005e-01  -1.05835879e-01  -6.72247993e-01\n",
      "    4.61631482e-01  -1.50599856e-01  -1.38495018e+00  -1.01014766e+00\n",
      "    4.78723127e-01  -1.30503874e+00   1.92427486e+00  -1.00534953e+00\n",
      "   -7.19262299e-01  -4.36746535e-01   4.37923964e-01   1.54333329e+00\n",
      "   -2.23485934e+00  -2.76833616e+00   5.03357698e-01   1.01657989e+00\n",
      "    9.43460308e-01  -8.16290338e-02   1.17361004e+00   5.52484260e-01\n",
      "    1.62931491e-01   6.92612677e-01  -8.51257012e-01  -2.53147202e-01\n",
      "    3.71178987e-01   5.93760268e-02   1.01270636e+00   8.61399502e-02\n",
      "    9.58695761e-01  -1.50043468e+00   7.49159009e-02  -1.10808975e+00\n",
      "    1.62879528e-01  -1.11344831e+00  -8.35904212e-01   1.41879266e-01\n",
      "   -1.68789733e-01   1.65745826e+00   3.27668924e-01  -1.76714660e-01\n",
      "   -8.25765782e-01  -2.10918787e+00   1.81331620e+00   1.03659656e+00\n",
      "    1.34771923e+00  -8.13252255e-01   1.13421695e+00  -6.03126244e-01\n",
      "   -6.81649111e-01   3.69998607e-01   1.40430665e+00   1.10169392e+00\n",
      "   -1.19814514e-02   1.40344267e+00   2.27883008e-01   6.56636342e-01\n",
      "    1.05323587e+00  -1.36756428e+00  -2.36753432e-01  -2.94193468e-01\n",
      "    1.31711709e+00   2.89366307e-01  -1.62980437e+00   1.79777191e+00\n",
      "   -2.94557802e+00  -6.53223822e-01  -7.41095162e-01  -1.29380620e-01\n",
      "    4.58204003e-01   8.71719110e-01   1.26150889e+00  -4.74293630e-01\n",
      "    1.02162611e+00  -3.97565833e-01  -5.03829414e-01  -2.61212813e-01\n",
      "   -1.48075302e+00  -1.62615014e-01   5.47120960e-01   4.16142367e-01\n",
      "    3.36646128e-01   2.12294166e-01   5.61749352e-01  -1.38880757e+00\n",
      "    1.99608867e+00  -6.98643107e-02  -1.45427323e+00   4.74100739e-01\n",
      "    9.41081317e-01  -3.54163257e-01   1.48812749e+00   3.05622295e-01\n",
      "    3.91675171e-01  -3.00732075e-01  -1.57016155e+00   1.73467063e-01\n",
      "   -2.50975082e+00  -5.23333333e-01   5.12981882e-02  -5.03494503e-01\n",
      "   -1.04877159e+00   7.50574532e-01  -7.16289772e-01   1.24171587e+00\n",
      "    3.54733803e-02   1.13521319e+00  -1.35435070e+00   1.02443830e+00\n",
      "   -8.59593796e-01   1.56385444e+00  -3.42782285e-01   1.01147175e+00\n",
      "    8.36426723e-01   8.74992223e-02   5.15063866e-02   7.52435397e-01\n",
      "   -7.92647388e-01  -2.07252054e-01   7.91878050e-01   4.93112942e-01\n",
      "    3.90889893e-01  -6.80706121e-02   1.62846655e+00  -1.54345099e+00\n",
      "   -4.98371709e-01  -7.54043169e-01  -1.41870517e-01  -1.91008758e+00\n",
      "   -9.50750130e-02  -1.94604184e+00  -9.67986858e-02  -8.84874998e-01\n",
      "    1.27991892e+00   1.22485252e+00  -1.05070289e+00  -9.79231175e-01\n",
      "    1.00496476e+00  -1.17757242e+00  -2.38912811e-01  -6.58671205e-01\n",
      "    1.83531796e-01  -6.89548291e-01   6.07496998e-01  -3.77701635e-01\n",
      "    8.58122484e-01  -8.26768365e-01  -8.61517468e-01  -1.14363896e+00\n",
      "   -1.65161651e+00  -2.96930908e-01  -2.17842429e+00   1.61923198e+00\n",
      "    1.11941982e+00  -7.16817810e-01  -6.36561347e-01  -8.28256441e-02\n",
      "   -1.13111668e+00   1.25995430e+00  -7.33513243e-01  -2.43375267e-01\n",
      "   -9.86428313e-01  -9.68783543e-01  -1.07648414e+00   2.18873813e+00\n",
      "   -1.16948991e+00   7.83385505e-01  -1.08946640e+00  -3.68763654e-01\n",
      "    1.43473573e+00  -2.34212220e-01   1.34310852e+00   7.57421434e-02\n",
      "    9.62044623e-01   3.58352253e-01   3.70859751e-01  -2.44353997e+00\n",
      "    3.93112178e-01   7.26894509e-01   1.18440976e+00  -2.46124567e-01\n",
      "    8.35797432e-01   1.48310211e+00  -1.27745103e+00  -1.28577117e+00\n",
      "   -1.89365973e+00   9.09822213e-01  -1.26636360e+00   1.22855901e+00\n",
      "    8.28223342e-01  -4.16181684e-01  -2.13682931e-01  -1.03705868e+00\n",
      "    4.64262720e-01   1.08232084e-02  -7.95442206e-01   1.76657441e+00\n",
      "    1.54385526e-01   1.35248122e-01   5.55711550e-01   3.22357633e-01\n",
      "   -9.95003379e-02   2.76812867e-01  -9.04631585e-02  -1.82165243e+00\n",
      "    2.80192766e-01   2.27274589e+00   9.71972124e-01  -1.10705292e+00\n",
      "   -7.07680493e-01  -9.39981493e-01   7.58910671e-01  -9.38794784e-01\n",
      "   -1.77919635e+00   1.05990553e+00  -1.60905241e+00   2.04525229e+00\n",
      "   -7.75206713e-01  -3.72403366e-01   2.28217265e-01   4.75860558e-02\n",
      "   -8.91741192e-01   1.65638640e+00   5.35505596e-01   6.82325215e-01\n",
      "    4.92020489e-01  -1.34487059e+00   3.35800894e-01  -9.51719584e-01\n",
      "   -9.65151572e-01  -6.06680376e-02  -7.11203508e-01   1.23769511e+00\n",
      "   -7.83259423e-01   1.54922584e+00   5.40207359e-01  -1.34875354e+00\n",
      "   -9.09062925e-02  -4.86894324e-01  -9.57207316e-01  -3.98578717e-01\n",
      "   -1.13227057e+00   5.17864639e-01  -1.73504970e+00  -2.18352316e-01\n",
      "    7.30754756e-01  -3.25823739e-02   4.01678290e-01   7.14051717e-01\n",
      "    2.04257994e+00   8.28989870e-01   3.77259341e-02  -1.02801497e+00\n",
      "    9.13545993e-01  -1.11300484e+00   1.94219591e+00  -1.34254622e+00\n",
      "    1.83872724e+00  -5.44035852e-02  -1.96340004e+00  -1.06784936e+00\n",
      "    5.95003922e-01   4.94476247e-01   1.29193590e+00   1.69245849e+00\n",
      "    2.61343472e-01   5.60812654e-01  -1.23193046e+00   8.11319202e-01\n",
      "    1.48238315e+00  -1.73318663e+00  -1.52086013e+00   6.13209455e-02\n",
      "   -1.66748142e+00   6.08064901e-01   7.76013399e-01  -3.30908224e-01\n",
      "   -9.67592138e-01  -3.35228990e-01  -4.45868047e-01   9.25150345e-02\n",
      "   -2.34393613e-02  -8.93145230e-01  -2.74262141e-01   9.97539424e-01\n",
      "   -1.19174809e-01   3.87906593e-01   5.41396180e-01  -1.25286747e+00\n",
      "    2.14925774e+00   1.19734989e+00  -7.97330237e-01   6.72151359e-01\n",
      "   -1.31685078e+00   1.70707280e+00  -8.40531288e-01   1.69434973e+00\n",
      "    1.79110247e+00  -5.95326830e-01   1.08670039e-01  -2.13841923e-01\n",
      "   -6.01491389e-01   4.34515971e-01  -2.86199371e+00   1.25224481e+00\n",
      "   -7.44432523e-01  -9.60437042e-02   3.69809725e-01  -1.72808388e+00\n",
      "    8.54406074e-01   1.81849017e+00   5.52191498e-01   5.26982732e-01\n",
      "   -2.19462004e+00  -1.17084988e+00   3.40202446e+00   1.13162432e+00\n",
      "   -1.18147017e-01  -4.83172859e-01   7.59684711e-04   4.30790262e-02\n",
      "    4.70712685e-01   1.84237765e+00   3.08783176e+00   1.69961633e+00\n",
      "    4.29444589e-01   9.75388423e-01   2.26933316e-02  -4.08768317e-01\n",
      "    3.82745582e-01   3.28413011e-01  -2.17276782e-02  -2.28294571e+00\n",
      "    4.10904154e-01   1.67017215e+00   3.14794923e-01   2.51954835e-01\n",
      "    7.47070299e-01  -5.99385450e-01   6.05389148e-02   1.94432637e-01\n",
      "    6.05745475e-01  -3.90635156e-01  -4.05404850e-01  -1.94337612e+00\n",
      "    1.72572963e-01   2.24779535e+00   1.81949346e-01   2.54419062e+00\n",
      "   -2.70079764e-01   9.54457305e-01  -1.90258400e-01   2.07620599e+00\n",
      "   -3.46051854e-01  -1.28259677e-01   2.44758103e-02  -9.43695875e-02\n",
      "    6.40486292e-01  -5.52520853e-01  -3.90243665e-01   2.45175356e+00\n",
      "   -3.94983947e-01  -3.99745015e-01   1.90241544e+00   2.16237655e-01\n",
      "   -2.89674125e+00  -1.61316677e+00   9.13555460e-01  -2.36439848e-01\n",
      "   -1.92944293e-01   4.73206911e-01   7.90287807e-01   9.05293784e-01\n",
      "    1.06708343e-01  -5.45802240e-01   6.07654691e-01   5.83700914e-01\n",
      "    5.92156188e-01   1.59729955e-02   8.16418225e-02  -1.29653414e+00\n",
      "   -1.77532388e+00  -1.88221307e-01  -1.09093738e+00   7.70457236e-01\n",
      "    2.62775799e-01  -1.56959010e+00  -8.40549218e-01  -3.30893025e-01\n",
      "   -1.16867655e+00   1.07166702e+00   1.16286584e+00  -1.47025157e+00\n",
      "   -1.03264615e+00  -1.04334318e+00  -2.24128739e+00   3.96351092e+00\n",
      "    2.26662617e-01   3.75748717e-01  -2.58563139e-01  -2.49772287e-01\n",
      "   -2.26239937e-01  -9.93628118e-01  -6.94072884e-01  -1.62317231e+00\n",
      "    1.49689832e+00   7.64432273e-03  -1.07738063e+00   7.09545585e-01\n",
      "   -6.11884338e-01  -6.23989189e-01  -7.96964737e-01   6.50807996e-01\n",
      "   -2.01212428e+00   5.32843510e-01   3.08400650e-01  -1.64563317e-01\n",
      "   -8.52565005e-03   4.97216140e-01   1.29280567e+00   7.31474343e-01\n",
      "    1.17674754e+00  -1.07019977e+00  -2.18065839e+00   1.59883913e-01\n",
      "    1.23180505e-03  -6.10261950e-01  -5.01520342e-01   1.38064481e+00\n",
      "   -7.93888532e-01  -2.79954788e-01  -1.06269449e+00   4.04437777e-01\n",
      "   -2.20880566e-02  -2.17536505e-01   2.81873830e-01  -6.83172702e-01\n",
      "   -6.44065504e-01   2.51010495e-01   2.99929717e-01   2.07064943e+00\n",
      "    1.45056677e+00  -1.30440995e+00  -1.68327968e+00  -1.59650721e-01\n",
      "   -7.28247960e-01  -1.69134599e+00   1.59975875e-01   2.58632805e-01\n",
      "    7.64982847e-02   2.44796897e-01   7.58206947e-03   6.73830018e-01\n",
      "    5.23174184e-02   1.33000741e+00   4.54464555e-01  -1.00496483e+00\n",
      "    1.17717413e+00  -1.05992170e+00  -6.07456326e-01  -4.51701424e-01\n",
      "   -1.62353271e+00  -9.62981816e-01   1.12097113e+00  -3.24434177e-01\n",
      "    4.09130064e-01  -3.91335380e-02   1.29682720e+00  -1.22473415e+00\n",
      "   -1.13261026e+00  -1.55786175e-01  -9.69914949e-01   2.27191529e-01\n",
      "    8.32828748e-01  -1.06865261e-01   7.83260242e-01   1.08107001e+00\n",
      "    7.01468914e-01  -1.20570313e+00   4.43031211e-01   2.16528406e+00]]\n"
     ]
    }
   ],
   "source": [
    "# We can also use numpy to generate random values.\n",
    "randn = np.random.randn(1, 1000)\n",
    "# print the shape of randn\n",
    "#<------------INSERT CODE HERE------------>\n",
    "print(randn.shape)\n",
    "\n",
    "# print the first 10 elements of randn. What happens if you re-run this code?\n",
    "#<------------INSERT CODE HERE------------>\n",
    "\n",
    "print(randn[:10])"
   ]
  },
  {
   "cell_type": "code",
   "execution_count": 25,
   "metadata": {},
   "outputs": [
    {
     "name": "stdout",
     "output_type": "stream",
     "text": [
      "[[ 0.51729788  0.9469626 ]\n",
      " [ 0.76545976  0.28239584]\n",
      " [ 0.22104536  0.68622209]]\n"
     ]
    }
   ],
   "source": [
    "np.random.seed(23)\n",
    "\n",
    "# Generate a new array of random numbers, this time of shape (3, 2) and print it.\n",
    "# What happens when you re-run the code now?\n",
    "# TIP: you might want to save the result to compare the previous and the new one\n",
    "\n",
    "#<------------INSERT CODE HERE------------>\n",
    "rand1 = np.random.rand(3,2)\n",
    "print(rand1)\n",
    "# Think: what does np.seed() do? (Use Google if you don't know!)"
   ]
  },
  {
   "cell_type": "markdown",
   "metadata": {},
   "source": [
    "#### Combine arrays"
   ]
  },
  {
   "cell_type": "code",
   "execution_count": 71,
   "metadata": {},
   "outputs": [
    {
     "name": "stdout",
     "output_type": "stream",
     "text": [
      "(2, 4)\n",
      "(2, 4)\n",
      "Print when axix is not mentioned: [1 2 3 4 1 2 3 4 5 6 7 8 5 6 7 8]\n",
      "(16,)\n",
      "Print when concatenate the rows: [[1 2 3 4]\n",
      " [1 2 3 4]\n",
      " [5 6 7 8]\n",
      " [5 6 7 8]]\n",
      "(4, 4)\n",
      "Print when concatenate the columns: [[1 2 3 4 5 6 7 8]\n",
      " [1 2 3 4 5 6 7 8]]\n",
      "(2, 8)\n",
      "[[1 2 3 4]\n",
      " [1 2 3 4]\n",
      " [5 6 7 8]\n",
      " [5 6 7 8]]\n",
      "(4, 4)\n",
      "[[1 2 3 4 5 6 7 8]\n",
      " [1 2 3 4 5 6 7 8]]\n",
      "(2, 8)\n"
     ]
    }
   ],
   "source": [
    "arr1 = np.array([[1, 2, 3, 4], [1, 2, 3, 4]])\n",
    "arr2 = np.array([[5, 6, 7, 8], [5, 6, 7 , 8]])\n",
    "\n",
    "# Print the shapes of arr1 and arr2 and cat after each of the types of concatenations.\n",
    "# Concatenating arrays is a very common operation. Make sure you understand it!\n",
    "# TIP: it might help you to print the actual cat array after each type of concatenation too\n",
    "\n",
    "#<------------INSERT CODE HERE------------>\n",
    "\n",
    "print(arr1.shape)\n",
    "print(arr2.shape)\n",
    "\n",
    "# axis_a = np.concatenate((arr1, arr2), axis=0)\n",
    "# axis_b = np.concatenate((arr1, arr2), axis=1)\n",
    "axis_c = np.concatenate((arr1, arr2), axis=None)\n",
    "\n",
    "# print(axis_a)\n",
    "# print(axis_b)\n",
    "print(\"Print when axix is not mentioned:\", axis_c)\n",
    "\n",
    "# print(axis_a.shape)\n",
    "# print(axis_b.shape)\n",
    "print(axis_c.shape)\n",
    "\n",
    "# concatenate along the row\n",
    "cat = np.concatenate((arr1, arr2), axis=0)\n",
    "#<------------INSERT CODE HERE------------>\n",
    "print(\"Print when concatenate the rows:\", cat)\n",
    "print(cat.shape)\n",
    "\n",
    "# concatenate along the column\n",
    "cat = np.concatenate((arr1, arr2), axis=1)    \n",
    "#<------------INSERT CODE HERE------------>\n",
    "\n",
    "print(\"Print when concatenate the columns:\", cat)\n",
    "print(cat.shape)\n",
    "\n",
    "# stack arrays vertically\n",
    "cat = np.vstack((arr1, arr2))\n",
    "#<------------INSERT CODE HERE------------>\n",
    "\n",
    "print(cat)\n",
    "print(cat.shape)\n",
    "\n",
    "# stack arrays horizontally\n",
    "cat = np.hstack((arr1, arr2))\n",
    "#<------------INSERT CODE HERE------------>\n",
    "print(cat)\n",
    "print(cat.shape)\n"
   ]
  },
  {
   "cell_type": "markdown",
   "metadata": {},
   "source": [
    "#### Operations with arrays"
   ]
  },
  {
   "cell_type": "code",
   "execution_count": 27,
   "metadata": {},
   "outputs": [
    {
     "name": "stdout",
     "output_type": "stream",
     "text": [
      "[20 30 40 50]\n",
      "[0 1 2 3]\n"
     ]
    }
   ],
   "source": [
    "#Let's create a couple of vectors using numpy\n",
    "v1 = np.array([20, 30, 40, 50])\n",
    "v2 = np.arange(4)\n",
    "\n",
    "print(v1)\n",
    "print(v2)\n",
    "#And a couple of matrices\n",
    "mat1 = np.array([[1, 2, 3, 4], [1, 2, 3, 4]])\n",
    "mat2 = mat1.T # this is the transpose of mat1"
   ]
  },
  {
   "cell_type": "code",
   "execution_count": 28,
   "metadata": {},
   "outputs": [
    {
     "name": "stdout",
     "output_type": "stream",
     "text": [
      "[25 35 45 55]\n",
      "[[   1    2    3    4 2367]\n",
      " [   1    2    3    4 2367]]\n"
     ]
    }
   ],
   "source": [
    "# Add a number to an array of 1-D (i.e., a vector)\n",
    "print(5 + v1)\n",
    "# Compare the line above to your function vector_plus_num(vector, number) from Part 1.\n",
    "\n",
    "# Does your function work with matrices?\n",
    "\n",
    "# How do you add a number to a np.array object? Try adding 2367 to mat1\n",
    "\n",
    "#<------------INSERT CODE HERE------------>\n",
    "\n",
    "print(np.insert(mat1, 4, 2367, axis=1))\n",
    "# print(np.insert(mat1, 1, 2367, axis=0))\n",
    "# print(np.insert(mat1, 2, 2367))"
   ]
  },
  {
   "cell_type": "code",
   "execution_count": 29,
   "metadata": {},
   "outputs": [
    {
     "name": "stdout",
     "output_type": "stream",
     "text": [
      "Adding two vectors [20 31 42 53]\n",
      "Subtracting two vectors [20 29 38 47]\n",
      "[ 0.          1.          1.41421356  1.73205081]\n",
      "[ 2.99573227  3.40119738  3.68887945  3.91202301]\n",
      "[ 1.30103     1.47712125  1.60205999  1.69897   ]\n"
     ]
    }
   ],
   "source": [
    "# Let's try to add and subtract vectors now:\n",
    "print(\"Adding two vectors\", v1 + v2)\n",
    "print(\"Subtracting two vectors\", v1 - v2)\n",
    "\n",
    "# What happens if you try to add two vectors of different length?\n",
    "\n",
    "\n",
    "# Square root of each elemnt of v2:\n",
    "print(np.sqrt(v2))\n",
    "\n",
    "# Calculate the logarithm of each element of v1\n",
    "# TIP: check if you can do this using some numpy function!\n",
    "\n",
    "#<------------INSERT CODE HERE------------>\n",
    "\n",
    "print(np.log(v1))\n",
    "print(np.log10(v1))"
   ]
  },
  {
   "cell_type": "markdown",
   "metadata": {},
   "source": [
    "### Multiplication of vectors\n",
    "\n",
    "There are a number of functions in numpy that you can use to multiply vectors and matrices.\n",
    "\n",
    "Scalar product of two vectors: np.dot(vector1, vector2)\n",
    "\n",
    "Vector product of two vectors: np.cross(x, y)"
   ]
  },
  {
   "cell_type": "code",
   "execution_count": 30,
   "metadata": {},
   "outputs": [
    {
     "name": "stdout",
     "output_type": "stream",
     "text": [
      "9653\n",
      "50.6874343525\n",
      "50.6874343525\n"
     ]
    }
   ],
   "source": [
    "# Calculate the scalar product of v1 and v2 using your function from part 1 and the numpy function.\n",
    "#<------------INSERT CODE HERE------------>\n",
    "\n",
    "scalarProduct = np.dot(vector1,vector2)\n",
    "\n",
    "# Check if the result is the same using your function from Part 1\n",
    "\n",
    "#<------------INSERT CODE HERE------------>\n",
    "print(scalarProduct)\n",
    "\n",
    "\n",
    "v3 = np.random.randn(4000)\n",
    "v4 = np.random.randn(4000)\n",
    "# Calculate the scalar product of v3 and v4 using your function from part 1 and the numpy function.\n",
    "# Compare the time it takes to execute each of them.\n",
    "# HINT: https://stackoverflow.com/questions/7370801/measure-time-elapsed-in-python\n",
    "\n",
    "#<------------INSERT CODE HERE------------>\n",
    "\n",
    "print(scalar_product(v3, v4))\n",
    "print(np.dot(v3,v4))\n"
   ]
  },
  {
   "cell_type": "code",
   "execution_count": 31,
   "metadata": {},
   "outputs": [
    {
     "name": "stdout",
     "output_type": "stream",
     "text": [
      "[ 20 -40  20]\n"
     ]
    }
   ],
   "source": [
    "# Calculate the vector product of v1 and v2 using the numpy function.\n",
    "\n",
    "#<------------INSERT CODE HERE------------>\n",
    "\n",
    "v1 = [20, 30, 40]\n",
    "v2 = [0, 1, 2]\n",
    "\n",
    "print(np.cross(v1, v2))"
   ]
  },
  {
   "cell_type": "markdown",
   "metadata": {},
   "source": [
    "### Matrix multiplication\n",
    "\n",
    "This can be done on numpy using: np.matmul(a, b)"
   ]
  },
  {
   "cell_type": "code",
   "execution_count": 32,
   "metadata": {},
   "outputs": [
    {
     "name": "stdout",
     "output_type": "stream",
     "text": [
      "[[30 30]\n",
      " [30 30]]\n",
      "[[30, 30], []]\n"
     ]
    }
   ],
   "source": [
    "# Check the result of multiplying mat1 and mat2 using the numpy function and the one you created in part 1.\n",
    "# Check the execution time for each of them. Which one is faster? \n",
    "\n",
    "#<------------INSERT CODE HERE------------>\n",
    "\n",
    "print(np.matmul(mat1, mat2))\n",
    "\n",
    "# Is it the same result?\n",
    "\n",
    "#<------------INSERT CODE HERE------------>\n",
    "print(matrix_multiplication(mat1, mat2))"
   ]
  },
  {
   "cell_type": "markdown",
   "metadata": {},
   "source": [
    "**Plotting a function**"
   ]
  },
  {
   "cell_type": "code",
   "execution_count": 33,
   "metadata": {
    "collapsed": true
   },
   "outputs": [],
   "source": [
    "import matplotlib.pyplot as plt"
   ]
  },
  {
   "cell_type": "code",
   "execution_count": 59,
   "metadata": {},
   "outputs": [
    {
     "data": {
      "text/plain": [
       "<matplotlib.text.Text at 0x7f625d7324e0>"
      ]
     },
     "execution_count": 59,
     "metadata": {},
     "output_type": "execute_result"
    }
   ],
   "source": [
    "plt.figure()\n",
    "#plt.plot(t, sin)\n",
    "plt.xlabel(\"Time\")\n",
    "plt.ylabel(\"sin(1/4*pi*t)\")\n",
    "plt.title(\"Sinusoidal function\")\n",
    "#plt.show()"
   ]
  },
  {
   "cell_type": "code",
   "execution_count": 41,
   "metadata": {},
   "outputs": [
    {
     "name": "stdout",
     "output_type": "stream",
     "text": [
      "[1 4 5 8 9]\n",
      "[0 3 3 7 7]\n"
     ]
    }
   ],
   "source": [
    "#print(np.max(sin))\n",
    "#print(np.min(sin))\n",
    "\n",
    "## Elementwise minimum and maximum\n",
    "arr1 = np.array([1, 3, 5, 7, 9])\n",
    "arr2 = np.array([0, 4, 3, 8, 7])\n",
    "print(np.maximum(arr1, arr2))\n",
    "print(np.minimum(arr1, arr2))"
   ]
  },
  {
   "cell_type": "code",
   "execution_count": 36,
   "metadata": {
    "scrolled": true
   },
   "outputs": [
    {
     "name": "stdout",
     "output_type": "stream",
     "text": [
      "-0.00301729371263\n",
      "0.0351904137435\n",
      "1.03557152679\n"
     ]
    }
   ],
   "source": [
    "# Statistical summaries \n",
    "\n",
    "print(np.mean(randn))\n",
    "print(np.median(randn))\n",
    "print(np.std(randn))\n",
    "\n"
   ]
  },
  {
   "cell_type": "markdown",
   "metadata": {},
   "source": [
    "Create a 5 (channels) x 100 (samples) matrix of random integers between 0 and 543 and retrieve the following information:\n",
    "    - the max, min, mean of all samples.\n",
    "    - the mean and variance of each channel\n"
   ]
  },
  {
   "cell_type": "code",
   "execution_count": 55,
   "metadata": {},
   "outputs": [
    {
     "name": "stdout",
     "output_type": "stream",
     "text": [
      "[[273  62 357 134 482 405 272 180 157 285 290 205 404 121  96 111 448 157\n",
      "  327 265 337 368 184 375  54 317 318 530  26 508  32 102 320 120 540 381\n",
      "  304 284 434 269 303 127 113 446  63 447 381 271 336 220 504 466  45 516\n",
      "   72  57 364 479 227 399 363 466 104 130 348 175 188 504 239 433 354 133\n",
      "  305 346 320 465  88 347  55 464 305 207 303 140  79 165 220 226 266  30\n",
      "  278  25 196  67 171 110  74  22 345 130]\n",
      " [127 283 149 527  63 505 258 254 467 230 447 314 388  64 183 305 150 147\n",
      "   49 225  98 372  86 149 104 245 239  73 535 305 507 194  84 486  83 301\n",
      "  160   8 498 116 446 368 275 101  25 124  71 517 470  94  83 144  45 105\n",
      "  423 224 408 365 167 267 168 110 404 249 270 284 212 521 419 134 531 531\n",
      "  226 122 313 133  87  16  95  82 490 318 502 246 258 358 202 402  95 263\n",
      "  183 137  53 300 425 243 168 238  41 462]\n",
      " [ 53  50 113 470 316 404 407 158  11  78 533  87 273 523 378  49 415  85\n",
      "  426 281  58 391 209 361   6 325 111 160   5 332 522 379 525 171 235 439\n",
      "  211 115  46 439 456 309  65 439 263 534 285 246 542 521 407 251 207 530\n",
      "  491 508 188  73 261 481  65  92 189 309 218 122 304 171 226  79 107 356\n",
      "   21 263 388   8 195 414 362 242 387 161 508 343 518 202 394 138 447 417\n",
      "  289 465 163 502  23 326 280 394  56 300]\n",
      " [142  89 100 354 413 365  72 371 181 158 461 240 464 416 499 227 537 302\n",
      "   90 408  98  16 451  58 312 334 405 297 277  24 237  83 114 262 380 392\n",
      "  308 207 363 445 138 474 465 390  96  35 372 158 138 260  86 291 487 442\n",
      "  196 173  86 155 273 109 268 422 481 516  97 540 305  92 513 296   2 318\n",
      "  170 264 193  47  55 225 190 381 249  77 241 306 337  97 314 326 188 270\n",
      "  430  63 314 516 190 281 106 171 328 165]\n",
      " [127  73 392 256 168 328  42 503 153 280   8 542 335 236 296 495 179 398\n",
      "  188 531 333 294 275 243 276 531 407 225  54 341 450  74 167 369  61  50\n",
      "  423 184  32 272 135  44 154 228  19 303 111  38 293 480 260 244 299 119\n",
      "  471 203 542 240  46 110 329 200 471  39 357 533  11 146 121 527 464  93\n",
      "  424 215 376  62 166 256 415 360 297 418  60 130 275 217 521 482 479  15\n",
      "  141 486  26 231 160 102 521 129 261 466]]\n",
      "542\n",
      "2\n",
      "260.66\n",
      "[ 258.56  247.91  276.51  261.2   259.12]\n",
      "[ 21044.6264  23194.4619  26000.1899  20816.48    25359.7656]\n"
     ]
    }
   ],
   "source": [
    "#<------------INSERT CODE HERE------------>\n",
    "\n",
    "rand1 = np.random.randint(544, size=(5, 100))\n",
    "\n",
    "print(rand1)\n",
    "\n",
    "# max, min, mean of all samples\n",
    "print(np.amax(rand1))\n",
    "print(np.amin(rand1))\n",
    "print(np.mean(rand1))\n",
    "\n",
    "# the mean of each channel\n",
    "print(np.mean(rand1, axis=1))\n",
    "\n",
    "# the variance of each channel\n",
    "\n",
    "print(np.var(rand1, axis=1))\n"
   ]
  },
  {
   "cell_type": "markdown",
   "metadata": {},
   "source": [
    "Use the function hist() from matplotlib to show the histogram of values of the third channel."
   ]
  },
  {
   "cell_type": "code",
   "execution_count": 76,
   "metadata": {},
   "outputs": [
    {
     "name": "stdout",
     "output_type": "stream",
     "text": [
      "[ 53  50 113 470 316 404 407 158  11  78 533  87 273 523 378  49 415  85\n",
      " 426 281  58 391 209 361   6 325 111 160   5 332 522 379 525 171 235 439\n",
      " 211 115  46 439 456 309  65 439 263 534 285 246 542 521 407 251 207 530\n",
      " 491 508 188  73 261 481  65  92 189 309 218 122 304 171 226  79 107 356\n",
      "  21 263 388   8 195 414 362 242 387 161 508 343 518 202 394 138 447 417\n",
      " 289 465 163 502  23 326 280 394  56 300]\n"
     ]
    },
    {
     "data": {
      "image/png": "[encoded data removed]",
      "text/plain": [
       "<matplotlib.figure.Figure at 0x7f625d5ac9e8>"
      ]
     },
     "metadata": {},
     "output_type": "display_data"
    }
   ],
   "source": [
    "#<------------INSERT CODE HERE------------>\n",
    "\n",
    "# h = np.arange(5)\n",
    "\n",
    "\n",
    "indices = rand1[2]\n",
    "print(indices)\n",
    "\n",
    "plt.hist(indices, bins='auto')\n",
    "plt.show()"
   ]
  },
  {
   "cell_type": "code",
   "execution_count": null,
   "metadata": {
    "collapsed": true
   },
   "outputs": [],
   "source": []
  }
 ],
 "metadata": {
  "kernelspec": {
   "display_name": "Python 3",
   "language": "python",
   "name": "python3"
  },
  "language_info": {
   "codemirror_mode": {
    "name": "ipython",
    "version": 3
   },
   "file_extension": ".py",
   "mimetype": "text/x-python",
   "name": "python",
   "nbconvert_exporter": "python",
   "pygments_lexer": "ipython3",
   "version": "3.5.2"
  }
 },
 "nbformat": 4,
 "nbformat_minor": 2
}
